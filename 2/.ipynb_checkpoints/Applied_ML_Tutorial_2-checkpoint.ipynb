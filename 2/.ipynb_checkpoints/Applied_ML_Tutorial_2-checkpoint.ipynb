{
 "cells": [
  {
   "cell_type": "markdown",
   "metadata": {
    "colab_type": "text",
    "id": "Sw-78roectbN"
   },
   "source": [
    "# Comp 551 Tutorial 2 :: scikit-learn\n",
    "\n",
    "Feb 2nd, 2018\n",
    "\n",
    "### Things we'll cover today\n",
    "\n",
    "1) **What is scikit-learn and why should I care about it**\n",
    "\n",
    "2) **How to go about doing ML (with scikit learn)**\n",
    "  - ML as a single pipeline\n",
    "    - Most common data preprocessing steps\n",
    "      - train-test split\n",
    "      - vectorization of textual features (only for textual features)\n",
    "      - TF-IDF (only for textual features)\n",
    "      - normalization\n",
    "      - one-hot encoding of labels (for classification problems only)\n",
    "    - Training\n",
    "      - fit (closed form or gradient descent)\n",
    "      - predict\n",
    "    - Evaluation\n",
    "      - metrics : measure accuracy - precision / recall / f-score\n",
    "      - Cross validation\n",
    "      - Grid Search\n"
   ]
  },
  {
   "cell_type": "markdown",
   "metadata": {
    "colab_type": "text",
    "id": "_egiyNO6qaX4"
   },
   "source": [
    "1) **What is scikit-learn and why should I care about it**\n",
    "\n",
    "- Scikit-learn is a python-based free ML library that provides well-implemented off-the-shelf implementations for almost all ML operations.\n",
    "- Implementing ML from scratch that is scalable, efficient, and error-free is really very very hard.\n",
    "\n",
    "*Disclaimer* : Availability of off-the-shelf implementations of ML doesn't invalidates the need to know the algorithms details."
   ]
  },
  {
   "cell_type": "markdown",
   "metadata": {
    "colab_type": "text",
    "id": "dR9OLqFWt89H"
   },
   "source": [
    "2) **How to go about doing ML (with scikit learn)**\n"
   ]
  },
  {
   "cell_type": "markdown",
   "metadata": {
    "colab_type": "text",
    "id": "n_CLX4KEuSiN"
   },
   "source": [
    "2.1) **ML as a single pipeline**\n",
    "- Almost all *scalable* ML models follows the style of development in a pipeline. It eases the pain of thinking through the complex ML processes.\n",
    "- Keep this pipeline in mind while developing any ML model.\n",
    "\n",
    "![alt text](http://cs.mcgill.ca/~sthaku3/other_media/COMP551_tutorial_2/Steps.png)\n",
    "\n",
    "\n",
    "- P.S. :: Closed-form solution seeking ML don't follow this suit."
   ]
  },
  {
   "cell_type": "markdown",
   "metadata": {
    "colab_type": "text",
    "id": "Px0OF3By-4qv"
   },
   "source": [
    "From here on, we'll explain the concepts behind each of these steps with a real dataset called News20group as hosted [here](http://scikit-learn.org/stable/datasets/twenty_newsgroups.html). So, let's import it now."
   ]
  },
  {
   "cell_type": "code",
   "execution_count": 0,
   "metadata": {
    "colab": {
     "autoexec": {
      "startup": false,
      "wait_interval": 0
     }
    },
    "colab_type": "code",
    "collapsed": true,
    "id": "pER--i2w5-Pl"
   },
   "outputs": [],
   "source": [
    "from sklearn.datasets import fetch_20newsgroups\n",
    "newsgroups = fetch_20newsgroups(subset='all')"
   ]
  },
  {
   "cell_type": "markdown",
   "metadata": {
    "colab_type": "text",
    "id": "sEmtYiEU_s-g"
   },
   "source": [
    "This dataset contains sentences from news and the topic they belong to."
   ]
  },
  {
   "cell_type": "code",
   "execution_count": 0,
   "metadata": {
    "colab": {
     "autoexec": {
      "startup": false,
      "wait_interval": 0
     },
     "base_uri": "https://localhost:8080/",
     "height": 89,
     "output_extras": [
      {}
     ]
    },
    "colab_type": "code",
    "executionInfo": {
     "elapsed": 306,
     "status": "ok",
     "timestamp": 1517612833773,
     "user": {
      "displayName": "Koustuv Sinha",
      "photoUrl": "//lh4.googleusercontent.com/-8pnAM9lHhfI/AAAAAAAAAAI/AAAAAAAAOD4/66r7SVwRuOQ/s50-c-k-no/photo.jpg",
      "userId": "108068169310132534375"
     },
     "user_tz": 300
    },
    "id": "eu1FvC3X6tzD",
    "outputId": "cb659f5a-daf9-47b3-b82f-129fa191a265"
   },
   "outputs": [
    {
     "data": {
      "text/plain": [
       "[u\"From: Mamatha Devineni Ratnam <mr47+@andrew.cmu.edu>\\nSubject: Pens fans reactions\\nOrganization: Post Office, Carnegie Mellon, Pittsburgh, PA\\nLines: 12\\nNNTP-Posting-Host: po4.andrew.cmu.edu\\n\\n\\n\\nI am sure some bashers of Pens fans are pretty confused about the lack\\nof any kind of posts about the recent Pens massacre of the Devils. Actually,\\nI am  bit puzzled too and a bit relieved. However, I am going to put an end\\nto non-PIttsburghers' relief with a bit of praise for the Pens. Man, they\\nare killing those Devils worse than I thought. Jagr just showed you why\\nhe is much better than his regular season stats. He is also a lot\\nfo fun to watch in the playoffs. Bowman should let JAgr have a lot of\\nfun in the next couple of games since the Pens are going to beat the pulp out of Jersey anyway. I was very disappointed not to see the Islanders lose the final\\nregular season game.          PENS RULE!!!\\n\\n\",\n",
       " u'From: mblawson@midway.ecn.uoknor.edu (Matthew B Lawson)\\nSubject: Which high-performance VLB video card?\\nSummary: Seek recommendations for VLB video card\\nNntp-Posting-Host: midway.ecn.uoknor.edu\\nOrganization: Engineering Computer Network, University of Oklahoma, Norman, OK, USA\\nKeywords: orchid, stealth, vlb\\nLines: 21\\n\\n  My brother is in the market for a high-performance video card that supports\\nVESA local bus with 1-2MB RAM.  Does anyone have suggestions/ideas on:\\n\\n  - Diamond Stealth Pro Local Bus\\n\\n  - Orchid Farenheit 1280\\n\\n  - ATI Graphics Ultra Pro\\n\\n  - Any other high-performance VLB card\\n\\n\\nPlease post or email.  Thank you!\\n\\n  - Matt\\n\\n-- \\n    |  Matthew B. Lawson <------------> (mblawson@essex.ecn.uoknor.edu)  |   \\n  --+-- \"Now I, Nebuchadnezzar, praise and exalt and glorify the King  --+-- \\n    |   of heaven, because everything he does is right and all his ways  |   \\n    |   are just.\" - Nebuchadnezzar, king of Babylon, 562 B.C.           |   \\n',\n",
       " u'From: hilmi-er@dsv.su.se (Hilmi Eren)\\nSubject: Re: ARMENIA SAYS IT COULD SHOOT DOWN TURKISH PLANES (Henrik)\\nLines: 95\\nNntp-Posting-Host: viktoria.dsv.su.se\\nReply-To: hilmi-er@dsv.su.se (Hilmi Eren)\\nOrganization: Dept. of Computer and Systems Sciences, Stockholm University\\n\\n\\n\\n\\n|>The student of \"regional killings\" alias Davidian (not the Davidian religios sect) writes:\\n\\n\\n|>Greater Armenia would stretch from Karabakh, to the Black Sea, to the\\n|>Mediterranean, so if you use the term \"Greater Armenia\" use it with care.\\n\\n\\n\\tFinally you said what you dream about. Mediterranean???? That was new....\\n\\tThe area will be \"greater\" after some years, like your \"holocaust\" numbers......\\n\\n\\n\\n\\n|>It has always been up to the Azeris to end their announced winning of Karabakh \\n|>by removing the Armenians! When the president of Azerbaijan, Elchibey, came to \\n|>power last year, he announced he would be be \"swimming in Lake Sevan [in \\n|>Armeniaxn] by July\".\\n\\t\\t*****\\n\\tIs\\'t July in USA now????? Here in Sweden it\\'s April and still cold.\\n\\tOr have you changed your calendar???\\n\\n\\n|>Well, he was wrong! If Elchibey is going to shell the \\n|>Armenians of Karabakh from Aghdam, his people will pay the price! If Elchibey \\n\\t\\t\\t\\t\\t\\t    ****************\\n|>is going to shell Karabakh from Fizuli his people will pay the price! If \\n\\t\\t\\t\\t\\t\\t    ******************\\n|>Elchibey thinks he can get away with bombing Armenia from the hills of \\n|>Kelbajar, his people will pay the price. \\n\\t\\t\\t    ***************\\n\\n\\n\\tNOTHING OF THE MENTIONED IS TRUE, BUT LET SAY IT\\'s TRUE.\\n\\t\\n\\tSHALL THE AZERI WOMEN AND CHILDREN GOING TO PAY THE PRICE WITH\\n\\t\\t\\t\\t\\t\\t    **************\\n\\tBEING RAPED, KILLED AND TORTURED BY THE ARMENIANS??????????\\n\\t\\n\\tHAVE YOU HEARDED SOMETHING CALLED: \"GENEVA CONVENTION\"???????\\n\\tYOU FACIST!!!!!\\n\\n\\n\\n\\tOhhh i forgot, this is how Armenians fight, nobody has forgot\\n\\tyou killings, rapings and torture against the Kurds and Turks once\\n\\tupon a time!\\n      \\n       \\n\\n|>And anyway, this \"60 \\n|>Kurd refugee\" story, as have other stories, are simple fabrications sourced in \\n|>Baku, modified in Ankara. Other examples of this are Armenia has no border \\n|>with Iran, and the ridiculous story of the \"intercepting\" of Armenian military \\n|>conversations as appeared in the New York Times supposedly translated by \\n|>somebody unknown, from Armenian into Azeri Turkish, submitted by an unnamed \\n|>\"special correspondent\" to the NY Times from Baku. Real accurate!\\n\\nOhhhh so swedish RedCross workers do lie they too? What ever you say\\n\"regional killer\", if you don\\'t like the person then shoot him that\\'s your policy.....l\\n\\n\\n|>[HE]\\tSearch Turkish planes? You don\\'t know what you are talking about.<-------\\n|>[HE]\\tsince it\\'s content is announced to be weapons? \\t\\t\\t\\ti\\t \\n\\t\\t\\t\\t\\t\\t\\t\\t\\t\\ti\\n|>Well, big mouth Ozal said military weapons are being provided to Azerbaijan\\ti\\n|>from Turkey, yet Demirel and others say no. No wonder you are so confused!\\ti\\n\\t\\t\\t\\t\\t\\t\\t\\t\\t\\ti\\n\\t\\t\\t\\t\\t\\t\\t\\t\\t\\ti\\n\\tConfused?????\\t\\t\\t\\t\\t\\t\\t\\ti\\n\\tYou facist when you delete text don\\'t change it, i wrote:\\t\\ti\\n\\t\\t\\t\\t\\t\\t\\t\\t\\t\\ti\\n        Search Turkish planes? You don\\'t know what you are talking about.\\ti\\n        Turkey\\'s government has announced that it\\'s giving weapons  <-----------i\\n        to Azerbadjan since Armenia started to attack Azerbadjan\\t\\t\\n        it self, not the Karabag province. So why search a plane for weapons\\t\\n        since it\\'s content is announced to be weapons?   \\n\\n\\tIf there is one that\\'s confused then that\\'s you! We have the right (and we do)\\n\\tto give weapons to the Azeris, since Armenians started the fight in Azerbadjan!\\n \\n\\n|>You are correct, all Turkish planes should be simply shot down! Nice, slow\\n|>moving air transports!\\n\\n\\tShoot down with what? Armenian bread and butter? Or the arms and personel \\n\\tof the Russian army?\\n\\n\\n\\n\\nHilmi Eren\\nStockholm University\\n']"
      ]
     },
     "execution_count": 56,
     "metadata": {
      "tags": []
     },
     "output_type": "execute_result"
    }
   ],
   "source": [
    "# This is how the features look like\n",
    "list(newsgroups.data)[0:3]"
   ]
  },
  {
   "cell_type": "code",
   "execution_count": 0,
   "metadata": {
    "colab": {
     "autoexec": {
      "startup": false,
      "wait_interval": 0
     },
     "base_uri": "https://localhost:8080/",
     "height": 364,
     "output_extras": [
      {}
     ]
    },
    "colab_type": "code",
    "executionInfo": {
     "elapsed": 464,
     "status": "ok",
     "timestamp": 1517612861146,
     "user": {
      "displayName": "Koustuv Sinha",
      "photoUrl": "//lh4.googleusercontent.com/-8pnAM9lHhfI/AAAAAAAAAAI/AAAAAAAAOD4/66r7SVwRuOQ/s50-c-k-no/photo.jpg",
      "userId": "108068169310132534375"
     },
     "user_tz": 300
    },
    "id": "GGwaVXVj7N51",
    "outputId": "379082d7-a307-4f54-bb4f-c989b80b58c1"
   },
   "outputs": [
    {
     "data": {
      "text/plain": [
       "['alt.atheism',\n",
       " 'comp.graphics',\n",
       " 'comp.os.ms-windows.misc',\n",
       " 'comp.sys.ibm.pc.hardware',\n",
       " 'comp.sys.mac.hardware',\n",
       " 'comp.windows.x',\n",
       " 'misc.forsale',\n",
       " 'rec.autos',\n",
       " 'rec.motorcycles',\n",
       " 'rec.sport.baseball',\n",
       " 'rec.sport.hockey',\n",
       " 'sci.crypt',\n",
       " 'sci.electronics',\n",
       " 'sci.med',\n",
       " 'sci.space',\n",
       " 'soc.religion.christian',\n",
       " 'talk.politics.guns',\n",
       " 'talk.politics.mideast',\n",
       " 'talk.politics.misc',\n",
       " 'talk.religion.misc']"
      ]
     },
     "execution_count": 58,
     "metadata": {
      "tags": []
     },
     "output_type": "execute_result"
    }
   ],
   "source": [
    "# This is how the target looks like\n",
    "newsgroups.target_names"
   ]
  },
  {
   "cell_type": "markdown",
   "metadata": {
    "colab_type": "text",
    "id": "yNsFQi4F00d8"
   },
   "source": [
    "**2.1.1) Most common data-proprocessing steps**\n",
    "![alt text](http://cs.mcgill.ca/~sthaku3/other_media/COMP551_tutorial_2/Preprocessing.png)"
   ]
  },
  {
   "cell_type": "markdown",
   "metadata": {
    "colab_type": "text",
    "id": "ivTeHm1aH38S"
   },
   "source": [
    "**2.1.1.1) Train-test split **"
   ]
  },
  {
   "cell_type": "code",
   "execution_count": 0,
   "metadata": {
    "colab": {
     "autoexec": {
      "startup": false,
      "wait_interval": 0
     }
    },
    "colab_type": "code",
    "collapsed": true,
    "id": "YGUULLUZ-hGG"
   },
   "outputs": [],
   "source": [
    "## Simple way to do split would be to use scikit-learn's `train_test_split` method\n",
    "from sklearn.model_selection import train_test_split\n",
    "X_train, X_test, y_train, y_test = train_test_split(newsgroups.data, newsgroups.target, train_size=0.8, test_size=0.2)"
   ]
  },
  {
   "cell_type": "markdown",
   "metadata": {
    "colab_type": "text",
    "id": "mmeZ8WK11JDh"
   },
   "source": [
    "**2.1.1.2) Vectorization of textual features (applicable only for textual features)**\n",
    "\n",
    "A very simple approach to represent textual features such as documents or sentences as numerical value is to use each word as an atomic type and as a basis for a vector space. For example imagine a world where there exist only 3 words: “Apple”, “Orange”, and “Banana” and every sentence or document is made of them. They become the basis of a 3 dimensional vector space:\n",
    "\n",
    "```\n",
    "Apple  ==>> [1,0,0]\n",
    "Banana ==>> [0,1,0]\n",
    "Orange ==>> [0,0,1]\n",
    "```\n",
    "\n",
    "This representation is called **one_hot** as it is always a vector of zeros with 1 on the position of the word.\n",
    "\n",
    "Then a “sentence” or a “document” is simply the linear combination of these vectors where the number of the counts of appearance of the words is the coefficient along that dimension. For example:\n",
    "\n",
    "```\n",
    "d3 = \"Apple Orange Orange Apple\" ==>> [2,0,2]\n",
    "d4 = \"Apple Banana Apple Banana\" ==>> [2,2,0]\n",
    "d1 = \"Banana Apple Banana Banana Banana Apple\" ==>> [2,4,0]\n",
    "d2 = \"Banana Orange Banana Banana Orange Banana\" ==>> [0,4,2]\n",
    "d5 = \"Banana Apple Banana Banana Orange Banana\" ==>> [1,4,1]\n",
    "```\n",
    "\n",
    "This will be covered in detail in lecture *Feature Construction and Selection* on 14th and 19th February.\n",
    "\n",
    "Since, our toy dataset also has textual features, we'll have to vectorize them. But let's do train-test split first"
   ]
  },
  {
   "cell_type": "markdown",
   "metadata": {
    "colab_type": "text",
    "id": "3MLfs5Yj7WK9"
   },
   "source": [
    "## Now we transform text into vectors\n",
    "\n",
    "from sklearn.feature_extraction.text import CountVectorizer\n",
    "vectorizer = CountVectorizer()"
   ]
  },
  {
   "cell_type": "code",
   "execution_count": 0,
   "metadata": {
    "colab": {
     "autoexec": {
      "startup": false,
      "wait_interval": 0
     }
    },
    "colab_type": "code",
    "collapsed": true,
    "id": "dj0T-H3zyeRr"
   },
   "outputs": [],
   "source": [
    "vectors = vectorizer.fit_transform(X_train)\n",
    "\n",
    "# and we do the same for training data. remember to use the same vectorizer, only transform (why?)\n",
    "vectors_test = vectorizer.transform(X_test)"
   ]
  },
  {
   "cell_type": "markdown",
   "metadata": {
    "colab_type": "text",
    "id": "ikRfZa13LqM8"
   },
   "source": [
    "**2.1.1.3) TF-IDF (only for textual features)**\n",
    "TF-IDF stands for Term-Frequency Inverse Document Frequency is one of the most popular approaches to mitigate the effects of more frequent but less informative words such as ''*the*''.\n",
    "This will also be covered in detail in lecture *Feature Construction and Selection* on 14th and 19th February."
   ]
  },
  {
   "cell_type": "code",
   "execution_count": 0,
   "metadata": {
    "colab": {
     "autoexec": {
      "startup": false,
      "wait_interval": 0
     }
    },
    "colab_type": "code",
    "collapsed": true,
    "id": "dZbsk2bHKG0u"
   },
   "outputs": [],
   "source": [
    "## You could have also used Tf-IDF vectorizer to convert the words into vectors\n",
    "from sklearn.feature_extraction.text import TfidfVectorizer\n",
    "\n",
    "vectorizer = TfidfVectorizer()\n",
    "vectors = vectorizer.fit_transform(X_train)\n",
    "vectors_test = vectorizer.transform(X_test)"
   ]
  },
  {
   "cell_type": "code",
   "execution_count": 0,
   "metadata": {
    "colab": {
     "autoexec": {
      "startup": false,
      "wait_interval": 0
     },
     "base_uri": "https://localhost:8080/",
     "height": 34,
     "output_extras": [
      {}
     ]
    },
    "colab_type": "code",
    "executionInfo": {
     "elapsed": 490,
     "status": "ok",
     "timestamp": 1517600219526,
     "user": {
      "displayName": "Koustuv Sinha",
      "photoUrl": "//lh4.googleusercontent.com/-8pnAM9lHhfI/AAAAAAAAAAI/AAAAAAAAOD4/66r7SVwRuOQ/s50-c-k-no/photo.jpg",
      "userId": "108068169310132534375"
     },
     "user_tz": 300
    },
    "id": "NmyFyBiG7k8Q",
    "outputId": "0220ef4c-3792-436f-bf0b-0481ba4cc48f"
   },
   "outputs": [
    {
     "data": {
      "text/plain": [
       "(15076, 160971)"
      ]
     },
     "execution_count": 12,
     "metadata": {
      "tags": []
     },
     "output_type": "execute_result"
    }
   ],
   "source": [
    "## How does the vectors look like\n",
    "## number of vocabs\n",
    "vectors.shape\n"
   ]
  },
  {
   "cell_type": "code",
   "execution_count": 0,
   "metadata": {
    "colab": {
     "autoexec": {
      "startup": false,
      "wait_interval": 0
     },
     "base_uri": "https://localhost:8080/",
     "height": 34,
     "output_extras": [
      {}
     ]
    },
    "colab_type": "code",
    "executionInfo": {
     "elapsed": 279,
     "status": "ok",
     "timestamp": 1517600365246,
     "user": {
      "displayName": "Koustuv Sinha",
      "photoUrl": "//lh4.googleusercontent.com/-8pnAM9lHhfI/AAAAAAAAAAI/AAAAAAAAOD4/66r7SVwRuOQ/s50-c-k-no/photo.jpg",
      "userId": "108068169310132534375"
     },
     "user_tz": 300
    },
    "id": "cq102IGvB79W",
    "outputId": "c0438aca-05f9-4e5b-be5d-b1aeae88654a"
   },
   "outputs": [
    {
     "data": {
      "text/plain": [
       "(3770, 151628)"
      ]
     },
     "execution_count": 8,
     "metadata": {
      "tags": []
     },
     "output_type": "execute_result"
    }
   ],
   "source": [
    "vectors_test.shape"
   ]
  },
  {
   "cell_type": "code",
   "execution_count": 0,
   "metadata": {
    "colab": {
     "autoexec": {
      "startup": false,
      "wait_interval": 0
     },
     "base_uri": "https://localhost:8080/",
     "height": 34,
     "output_extras": [
      {}
     ]
    },
    "colab_type": "code",
    "executionInfo": {
     "elapsed": 4008,
     "status": "ok",
     "timestamp": 1517600394498,
     "user": {
      "displayName": "Koustuv Sinha",
      "photoUrl": "//lh4.googleusercontent.com/-8pnAM9lHhfI/AAAAAAAAAAI/AAAAAAAAOD4/66r7SVwRuOQ/s50-c-k-no/photo.jpg",
      "userId": "108068169310132534375"
     },
     "user_tz": 300
    },
    "id": "wgZftM_F76-N",
    "outputId": "a60aa570-e3b5-4fd1-e4ee-40755752dd22"
   },
   "outputs": [
    {
     "data": {
      "text/plain": [
       "array([0, 0, 0, ..., 0, 0, 0])"
      ]
     },
     "execution_count": 9,
     "metadata": {
      "tags": []
     },
     "output_type": "execute_result"
    }
   ],
   "source": [
    "## See the row is mainly sparse, because it contains counts of the words in one line\n",
    "vectors_test.toarray()[0]"
   ]
  },
  {
   "cell_type": "markdown",
   "metadata": {
    "colab_type": "text",
    "id": "r_KRrEgzN9ID"
   },
   "source": [
    "**2.1.1.4) normalization**::\n",
    "While not mandatory, normalization usually improves the performance of the learner significantly. It ensures that the learner learns from the data on similar scales across features. There are many ways of normalizing the data.\n",
    "This will also be covered in detail in lecture *Feature Construction and Selection* on 14th and 19th February.\n",
    "For now we'll stick to the default *l2* provided by scikit-learn."
   ]
  },
  {
   "cell_type": "code",
   "execution_count": 0,
   "metadata": {
    "colab": {
     "autoexec": {
      "startup": false,
      "wait_interval": 0
     }
    },
    "colab_type": "code",
    "collapsed": true,
    "id": "80CCffZIKozE"
   },
   "outputs": [],
   "source": [
    "from sklearn.preprocessing import normalize\n",
    "\n",
    "vectors = normalize(vectors)\n",
    "vectors_test = normalize(vectors_test)"
   ]
  },
  {
   "cell_type": "markdown",
   "metadata": {
    "colab_type": "text",
    "id": "nNFGDScfQCHq"
   },
   "source": [
    "**2.1.1.5) one-hot encoding of labels (for classification problems only)**\n",
    "The integer nature of the labels is not amenable for classification tasks. However, scikit-learn above internally handles the integer nature of our labels. In most other cases, the programmers need to represent them in a format that allows handling them explicitly. One such popular format is one-hot encoding. This one-hot encoding works similar to as explained in section 2.1.1.2. So, we are only refering to a function [here](http://scikit-learn.org/stable/modules/preprocessing_targets.html#) that does that for you but for labels in the context of classification."
   ]
  },
  {
   "cell_type": "markdown",
   "metadata": {
    "colab_type": "text",
    "id": "372z2zIIIzZ5"
   },
   "source": [
    "**2.1.2) Training**"
   ]
  },
  {
   "cell_type": "markdown",
   "metadata": {
    "colab_type": "text",
    "id": "EgQv5glG3FE6"
   },
   "source": [
    "![alt text](http://cs.mcgill.ca/~sthaku3/other_media/COMP551_tutorial_2/training.png)"
   ]
  },
  {
   "cell_type": "code",
   "execution_count": 0,
   "metadata": {
    "colab": {
     "autoexec": {
      "startup": false,
      "wait_interval": 0
     }
    },
    "colab_type": "code",
    "collapsed": true,
    "id": "7kvPfwvI8WJk"
   },
   "outputs": [],
   "source": [
    "## Now we instantiate the classifier. Remember this can be any classifier, even the one you make.\n",
    "from sklearn.naive_bayes import MultinomialNB\n",
    "\n",
    "clf = MultinomialNB(alpha=.01)"
   ]
  },
  {
   "cell_type": "markdown",
   "metadata": {
    "colab_type": "text",
    "id": "r_pOwUFzJJh0"
   },
   "source": [
    "**2.1.2.1) fit**"
   ]
  },
  {
   "cell_type": "code",
   "execution_count": 0,
   "metadata": {
    "colab": {
     "autoexec": {
      "startup": false,
      "wait_interval": 0
     },
     "base_uri": "https://localhost:8080/",
     "height": 34,
     "output_extras": [
      {}
     ]
    },
    "colab_type": "code",
    "executionInfo": {
     "elapsed": 641,
     "status": "ok",
     "timestamp": 1517602978274,
     "user": {
      "displayName": "Koustuv Sinha",
      "photoUrl": "//lh4.googleusercontent.com/-8pnAM9lHhfI/AAAAAAAAAAI/AAAAAAAAOD4/66r7SVwRuOQ/s50-c-k-no/photo.jpg",
      "userId": "108068169310132534375"
     },
     "user_tz": 300
    },
    "id": "W-a6Upz68Wa1",
    "outputId": "805ca253-f630-44e6-849f-4930afe7def3"
   },
   "outputs": [
    {
     "data": {
      "text/plain": [
       "MultinomialNB(alpha=0.01, class_prior=None, fit_prior=True)"
      ]
     },
     "execution_count": 30,
     "metadata": {
      "tags": []
     },
     "output_type": "execute_result"
    }
   ],
   "source": [
    "## Scikit Learn API is very simple and straightforward, which contains the basic commands:\n",
    "## `fit` to learn your parameters\n",
    "clf.fit(vectors, y_train)"
   ]
  },
  {
   "cell_type": "markdown",
   "metadata": {
    "colab_type": "text",
    "id": "ZuRrDQawJaib"
   },
   "source": [
    "**2.1.2.2) predict**"
   ]
  },
  {
   "cell_type": "code",
   "execution_count": 0,
   "metadata": {
    "colab": {
     "autoexec": {
      "startup": false,
      "wait_interval": 0
     }
    },
    "colab_type": "code",
    "collapsed": true,
    "id": "zTV3kk238tME"
   },
   "outputs": [],
   "source": [
    "## `predict` to generate a prediction on Test data."
   ]
  },
  {
   "cell_type": "code",
   "execution_count": 0,
   "metadata": {
    "colab": {
     "autoexec": {
      "startup": false,
      "wait_interval": 0
     },
     "base_uri": "https://localhost:8080/",
     "height": 34,
     "output_extras": [
      {}
     ]
    },
    "colab_type": "code",
    "executionInfo": {
     "elapsed": 319,
     "status": "ok",
     "timestamp": 1517602982963,
     "user": {
      "displayName": "Koustuv Sinha",
      "photoUrl": "//lh4.googleusercontent.com/-8pnAM9lHhfI/AAAAAAAAAAI/AAAAAAAAOD4/66r7SVwRuOQ/s50-c-k-no/photo.jpg",
      "userId": "108068169310132534375"
     },
     "user_tz": 300
    },
    "id": "u_CxiNKJ9Qz7",
    "outputId": "c9f3f87a-1d7f-4ee4-a61f-77efec75f8c6"
   },
   "outputs": [
    {
     "data": {
      "text/plain": [
       "array([16, 18, 14, ...,  6,  1,  6])"
      ]
     },
     "execution_count": 31,
     "metadata": {
      "tags": []
     },
     "output_type": "execute_result"
    }
   ],
   "source": [
    "## We get the predicted class\n",
    "y_pred = clf.predict(vectors_test)\n",
    "## So now we see we have a set of predictions. \n",
    "y_pred"
   ]
  },
  {
   "cell_type": "code",
   "execution_count": 0,
   "metadata": {
    "colab": {
     "autoexec": {
      "startup": false,
      "wait_interval": 0
     },
     "base_uri": "https://localhost:8080/",
     "height": 34,
     "output_extras": [
      {}
     ]
    },
    "colab_type": "code",
    "executionInfo": {
     "elapsed": 272,
     "status": "ok",
     "timestamp": 1517600447901,
     "user": {
      "displayName": "Koustuv Sinha",
      "photoUrl": "//lh4.googleusercontent.com/-8pnAM9lHhfI/AAAAAAAAAAI/AAAAAAAAOD4/66r7SVwRuOQ/s50-c-k-no/photo.jpg",
      "userId": "108068169310132534375"
     },
     "user_tz": 300
    },
    "id": "gV_S0kHT9ZGf",
    "outputId": "3e74f9c1-c6fb-443e-fdf2-6683ff37e038"
   },
   "outputs": [
    {
     "data": {
      "text/plain": [
       "array([16, 18, 14, ...,  6,  1,  6])"
      ]
     },
     "execution_count": 15,
     "metadata": {
      "tags": []
     },
     "output_type": "execute_result"
    }
   ],
   "source": []
  },
  {
   "cell_type": "markdown",
   "metadata": {
    "colab_type": "text",
    "id": "SLtKFqEb9oiU"
   },
   "source": [
    "### Evaluation\n",
    "\n",
    "To see how good or bad your classifier did, you should check the predictions with the gold standard dataset. The cool thing about scikit-learn is that it gives you several metrics to do so. You can even use your own classifier and use the list of predicted classes and gold standard classes to compare."
   ]
  },
  {
   "cell_type": "markdown",
   "metadata": {
    "colab_type": "text",
    "id": "_NPOBc8Z3M0D"
   },
   "source": [
    "![alt text](http://cs.mcgill.ca/~sthaku3/other_media/COMP551_tutorial_2/metrics.png)"
   ]
  },
  {
   "cell_type": "code",
   "execution_count": 0,
   "metadata": {
    "colab": {
     "autoexec": {
      "startup": false,
      "wait_interval": 0
     }
    },
    "colab_type": "code",
    "collapsed": true,
    "id": "hDhpF9AV997a"
   },
   "outputs": [],
   "source": [
    "from sklearn import metrics"
   ]
  },
  {
   "cell_type": "markdown",
   "metadata": {
    "colab_type": "text",
    "id": "Du-58SlnCjV2"
   },
   "source": [
    "The `metrics` class provides a set of useful metrics you can use for your needs. For any classification task, you need to report mainly these metrics:\n",
    "\n",
    "- Accuracy : (TP + TN) / (TP + TN + FP + FN)\n",
    "- Precision : TP / (TP + FP)\n",
    "- F1 Score : 2TP / (2TP + FP + FN)\n",
    "- Recall Score : TP / (TP + FN)\n",
    "\n",
    "Remember, when we do multi-class classification, we use it in `macro` average mode, where we calculate metrics for each label, and find their unweighted mean. You can also instead use other averaging modes such as `micro`, `weighted`, `samples`"
   ]
  },
  {
   "cell_type": "code",
   "execution_count": 0,
   "metadata": {
    "colab": {
     "autoexec": {
      "startup": false,
      "wait_interval": 0
     },
     "base_uri": "https://localhost:8080/",
     "height": 34,
     "output_extras": [
      {}
     ]
    },
    "colab_type": "code",
    "executionInfo": {
     "elapsed": 304,
     "status": "ok",
     "timestamp": 1517602989541,
     "user": {
      "displayName": "Koustuv Sinha",
      "photoUrl": "//lh4.googleusercontent.com/-8pnAM9lHhfI/AAAAAAAAAAI/AAAAAAAAOD4/66r7SVwRuOQ/s50-c-k-no/photo.jpg",
      "userId": "108068169310132534375"
     },
     "user_tz": 300
    },
    "id": "YrbK9ZKXC8iW",
    "outputId": "c46aa4d8-daca-4c5e-d319-b14d15d39da6"
   },
   "outputs": [
    {
     "data": {
      "text/plain": [
       "0.9169761273209549"
      ]
     },
     "execution_count": 32,
     "metadata": {
      "tags": []
     },
     "output_type": "execute_result"
    }
   ],
   "source": [
    "metrics.accuracy_score(y_test, y_pred)"
   ]
  },
  {
   "cell_type": "code",
   "execution_count": 0,
   "metadata": {
    "colab": {
     "autoexec": {
      "startup": false,
      "wait_interval": 0
     },
     "base_uri": "https://localhost:8080/",
     "height": 34,
     "output_extras": [
      {}
     ]
    },
    "colab_type": "code",
    "executionInfo": {
     "elapsed": 295,
     "status": "ok",
     "timestamp": 1517602991075,
     "user": {
      "displayName": "Koustuv Sinha",
      "photoUrl": "//lh4.googleusercontent.com/-8pnAM9lHhfI/AAAAAAAAAAI/AAAAAAAAOD4/66r7SVwRuOQ/s50-c-k-no/photo.jpg",
      "userId": "108068169310132534375"
     },
     "user_tz": 300
    },
    "id": "A9WUzQIkENRV",
    "outputId": "e9bf1133-d08e-414c-cf13-ec0abd31457b"
   },
   "outputs": [
    {
     "data": {
      "text/plain": [
       "0.9162959250625471"
      ]
     },
     "execution_count": 33,
     "metadata": {
      "tags": []
     },
     "output_type": "execute_result"
    }
   ],
   "source": [
    "metrics.precision_score(y_test, y_pred, average='macro')"
   ]
  },
  {
   "cell_type": "code",
   "execution_count": 0,
   "metadata": {
    "colab": {
     "autoexec": {
      "startup": false,
      "wait_interval": 0
     },
     "base_uri": "https://localhost:8080/",
     "height": 34,
     "output_extras": [
      {}
     ]
    },
    "colab_type": "code",
    "executionInfo": {
     "elapsed": 288,
     "status": "ok",
     "timestamp": 1517602992177,
     "user": {
      "displayName": "Koustuv Sinha",
      "photoUrl": "//lh4.googleusercontent.com/-8pnAM9lHhfI/AAAAAAAAAAI/AAAAAAAAOD4/66r7SVwRuOQ/s50-c-k-no/photo.jpg",
      "userId": "108068169310132534375"
     },
     "user_tz": 300
    },
    "id": "HbtrqV2zDE0t",
    "outputId": "1e11b586-9fa9-4b16-82d6-5d57d71cbe46"
   },
   "outputs": [
    {
     "data": {
      "text/plain": [
       "0.9138486202640822"
      ]
     },
     "execution_count": 34,
     "metadata": {
      "tags": []
     },
     "output_type": "execute_result"
    }
   ],
   "source": [
    "metrics.f1_score(y_test, y_pred, average='macro')"
   ]
  },
  {
   "cell_type": "code",
   "execution_count": 0,
   "metadata": {
    "colab": {
     "autoexec": {
      "startup": false,
      "wait_interval": 0
     },
     "base_uri": "https://localhost:8080/",
     "height": 34,
     "output_extras": [
      {}
     ]
    },
    "colab_type": "code",
    "executionInfo": {
     "elapsed": 293,
     "status": "ok",
     "timestamp": 1517602993279,
     "user": {
      "displayName": "Koustuv Sinha",
      "photoUrl": "//lh4.googleusercontent.com/-8pnAM9lHhfI/AAAAAAAAAAI/AAAAAAAAOD4/66r7SVwRuOQ/s50-c-k-no/photo.jpg",
      "userId": "108068169310132534375"
     },
     "user_tz": 300
    },
    "id": "lkThupEDDQ3M",
    "outputId": "0de74ebe-4c8d-4aee-bf99-f0ad1baf73ee"
   },
   "outputs": [
    {
     "data": {
      "text/plain": [
       "0.9130048306298564"
      ]
     },
     "execution_count": 35,
     "metadata": {
      "tags": []
     },
     "output_type": "execute_result"
    }
   ],
   "source": [
    "metrics.recall_score(y_test, y_pred, average='macro')"
   ]
  },
  {
   "cell_type": "code",
   "execution_count": 0,
   "metadata": {
    "colab": {
     "autoexec": {
      "startup": false,
      "wait_interval": 0
     },
     "base_uri": "https://localhost:8080/",
     "height": 450,
     "output_extras": [
      {}
     ]
    },
    "colab_type": "code",
    "executionInfo": {
     "elapsed": 305,
     "status": "ok",
     "timestamp": 1517602994353,
     "user": {
      "displayName": "Koustuv Sinha",
      "photoUrl": "//lh4.googleusercontent.com/-8pnAM9lHhfI/AAAAAAAAAAI/AAAAAAAAOD4/66r7SVwRuOQ/s50-c-k-no/photo.jpg",
      "userId": "108068169310132534375"
     },
     "user_tz": 300
    },
    "id": "okOFBUOREw_2",
    "outputId": "2a974a2b-2d30-417c-b038-c1e8949861c4"
   },
   "outputs": [
    {
     "name": "stdout",
     "output_type": "stream",
     "text": [
      "             precision    recall  f1-score   support\n",
      "\n",
      "          0       0.89      0.92      0.91       156\n",
      "          1       0.84      0.86      0.85       188\n",
      "          2       0.85      0.86      0.86       192\n",
      "          3       0.86      0.83      0.85       206\n",
      "          4       0.85      0.92      0.88       171\n",
      "          5       0.90      0.89      0.90       202\n",
      "          6       0.93      0.86      0.89       203\n",
      "          7       0.92      0.91      0.92       216\n",
      "          8       0.96      0.98      0.97       185\n",
      "          9       0.97      0.96      0.97       193\n",
      "         10       0.96      0.98      0.97       200\n",
      "         11       0.95      0.94      0.94       209\n",
      "         12       0.93      0.92      0.92       189\n",
      "         13       0.95      0.94      0.94       198\n",
      "         14       0.96      0.96      0.96       206\n",
      "         15       0.93      0.95      0.94       206\n",
      "         16       0.90      0.96      0.93       187\n",
      "         17       0.97      0.99      0.98       201\n",
      "         18       0.90      0.88      0.89       145\n",
      "         19       0.92      0.74      0.82       117\n",
      "\n",
      "avg / total       0.92      0.92      0.92      3770\n",
      "\n"
     ]
    }
   ],
   "source": [
    "## You can show all of this in a single call\n",
    "print(metrics.classification_report(y_test, y_pred))"
   ]
  },
  {
   "cell_type": "code",
   "execution_count": 0,
   "metadata": {
    "colab": {
     "autoexec": {
      "startup": false,
      "wait_interval": 0
     }
    },
    "colab_type": "code",
    "collapsed": true,
    "id": "UDHRrvpLZe88"
   },
   "outputs": [],
   "source": [
    "### Cross Validation\n",
    "\n",
    "from sklearn.model_selection import cross_val_score\n",
    "clf = MultinomialNB(alpha=.01)\n",
    "scores = cross_val_score(clf, X_train, y_train, cv=5)"
   ]
  },
  {
   "cell_type": "code",
   "execution_count": 0,
   "metadata": {
    "colab": {
     "autoexec": {
      "startup": false,
      "wait_interval": 0
     },
     "base_uri": "https://localhost:8080/",
     "height": 34,
     "output_extras": [
      {}
     ]
    },
    "colab_type": "code",
    "executionInfo": {
     "elapsed": 413,
     "status": "ok",
     "timestamp": 1517606628132,
     "user": {
      "displayName": "Koustuv Sinha",
      "photoUrl": "//lh4.googleusercontent.com/-8pnAM9lHhfI/AAAAAAAAAAI/AAAAAAAAOD4/66r7SVwRuOQ/s50-c-k-no/photo.jpg",
      "userId": "108068169310132534375"
     },
     "user_tz": 300
    },
    "id": "1PM6AJ4JZ2Dm",
    "outputId": "3d6e4131-5c68-4125-dce6-7767714bce9c"
   },
   "outputs": [
    {
     "data": {
      "text/plain": [
       "array([0.86956522, 0.84782609, 0.89010989, 0.92222222, 0.94444444])"
      ]
     },
     "execution_count": 49,
     "metadata": {
      "tags": []
     },
     "output_type": "execute_result"
    }
   ],
   "source": [
    "scores"
   ]
  },
  {
   "cell_type": "markdown",
   "metadata": {
    "colab_type": "text",
    "id": "EIwELJ7ZafGv"
   },
   "source": [
    "## Grid Search\n",
    "\n",
    "When you are first searching for the best hyperparamters, its a good first strategy to run a grid search with the choice of hyperparameters to see which ones work the best for your dataset. "
   ]
  },
  {
   "cell_type": "code",
   "execution_count": 0,
   "metadata": {
    "colab": {
     "autoexec": {
      "startup": false,
      "wait_interval": 0
     }
    },
    "colab_type": "code",
    "collapsed": true,
    "id": "rYRnOQgBase0"
   },
   "outputs": [],
   "source": [
    "from sklearn.model_selection import GridSearchCV\n",
    "\n",
    "tuned_parameters = [{'alpha': [1, 0.5, 0.2, 0.1]}]\n",
    "\n",
    "n_folds = 5\n",
    "\n",
    "clf = MultinomialNB()\n",
    "clf = GridSearchCV(clf, tuned_parameters, cv=n_folds, refit=False)\n",
    "clf.fit(X_train, y_train)\n",
    "scores = clf.cv_results_['mean_test_score']\n",
    "scores_std = clf.cv_results_['std_test_score']"
   ]
  },
  {
   "cell_type": "code",
   "execution_count": 0,
   "metadata": {
    "colab": {
     "autoexec": {
      "startup": false,
      "wait_interval": 0
     },
     "base_uri": "https://localhost:8080/",
     "height": 34,
     "output_extras": [
      {}
     ]
    },
    "colab_type": "code",
    "executionInfo": {
     "elapsed": 283,
     "status": "ok",
     "timestamp": 1517606989726,
     "user": {
      "displayName": "Koustuv Sinha",
      "photoUrl": "//lh4.googleusercontent.com/-8pnAM9lHhfI/AAAAAAAAAAI/AAAAAAAAOD4/66r7SVwRuOQ/s50-c-k-no/photo.jpg",
      "userId": "108068169310132534375"
     },
     "user_tz": 300
    },
    "id": "ZIkYTxpKbOT1",
    "outputId": "5bf56238-ba73-4476-ef11-f0eeb9fa0cf5"
   },
   "outputs": [
    {
     "data": {
      "text/plain": [
       "array([0.89450549, 0.89450549, 0.89450549, 0.89450549])"
      ]
     },
     "execution_count": 52,
     "metadata": {
      "tags": []
     },
     "output_type": "execute_result"
    }
   ],
   "source": [
    "scores"
   ]
  },
  {
   "cell_type": "code",
   "execution_count": 0,
   "metadata": {
    "colab": {
     "autoexec": {
      "startup": false,
      "wait_interval": 0
     },
     "base_uri": "https://localhost:8080/",
     "height": 34,
     "output_extras": [
      {}
     ]
    },
    "colab_type": "code",
    "executionInfo": {
     "elapsed": 281,
     "status": "ok",
     "timestamp": 1517606999025,
     "user": {
      "displayName": "Koustuv Sinha",
      "photoUrl": "//lh4.googleusercontent.com/-8pnAM9lHhfI/AAAAAAAAAAI/AAAAAAAAOD4/66r7SVwRuOQ/s50-c-k-no/photo.jpg",
      "userId": "108068169310132534375"
     },
     "user_tz": 300
    },
    "id": "PARL1ueIbQRa",
    "outputId": "7ea2a97a-d97c-48f5-ec4a-ad9c9a1a8b8b"
   },
   "outputs": [
    {
     "data": {
      "text/plain": [
       "array([0.0348636, 0.0348636, 0.0348636, 0.0348636])"
      ]
     },
     "execution_count": 53,
     "metadata": {
      "tags": []
     },
     "output_type": "execute_result"
    }
   ],
   "source": [
    "scores_std"
   ]
  },
  {
   "cell_type": "markdown",
   "metadata": {
    "colab_type": "text",
    "id": "2NXsl3dYctbZ"
   },
   "source": [
    "### Choice of Classifier"
   ]
  },
  {
   "cell_type": "markdown",
   "metadata": {
    "colab_type": "text",
    "id": "H-j4jzXFctbh"
   },
   "source": [
    "![Choosing the right estimator](http://scikit-learn.org/stable/_static/ml_map.png)"
   ]
  },
  {
   "cell_type": "markdown",
   "metadata": {
    "colab_type": "text",
    "id": "Cpjv6BG1ctcK"
   },
   "source": [
    "# References\n",
    "\n",
    "1. [Scikit Learn](http://scikit-learn.org/)"
   ]
  },
  {
   "cell_type": "markdown",
   "metadata": {
    "colab_type": "text",
    "id": "N-B78ajbctcL"
   },
   "source": [
    "## Useful Links\n",
    "\n",
    "1. ROC Curve: http://scikit-learn.org/stable/auto_examples/model_selection/plot_roc.html\n",
    "2. https://people.duke.edu/~ccc14/sta-663/BlackBoxOptimization.html"
   ]
  },
  {
   "cell_type": "code",
   "execution_count": 0,
   "metadata": {
    "colab": {
     "autoexec": {
      "startup": false,
      "wait_interval": 0
     }
    },
    "colab_type": "code",
    "collapsed": true,
    "id": "kKYAlXCJQPIW"
   },
   "outputs": [],
   "source": []
  }
 ],
 "metadata": {
  "colab": {
   "default_view": {},
   "name": "Applied_ML_Tutorial_2.ipynb",
   "provenance": [],
   "version": "0.3.2",
   "views": {}
  },
  "kernelspec": {
   "display_name": "Python 2",
   "language": "python",
   "name": "python2"
  },
  "language_info": {
   "codemirror_mode": {
    "name": "ipython",
    "version": 2
   },
   "file_extension": ".py",
   "mimetype": "text/x-python",
   "name": "python",
   "nbconvert_exporter": "python",
   "pygments_lexer": "ipython2",
   "version": "2.7.14"
  }
 },
 "nbformat": 4,
 "nbformat_minor": 1
}
