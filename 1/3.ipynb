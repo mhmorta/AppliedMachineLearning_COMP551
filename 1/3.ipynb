{
 "cells": [
  {
   "cell_type": "markdown",
   "metadata": {
    "collapsed": true
   },
   "source": [
    "# Assignemnt1\n",
    "## Mehrzad Mortazavi\n",
    "### Part3"
   ]
  },
  {
   "cell_type": "code",
   "execution_count": 29,
   "metadata": {
    "collapsed": false
   },
   "outputs": [
    {
     "name": "stdout",
     "output_type": "stream",
     "text": [
      "(1994, 128)\n"
     ]
    }
   ],
   "source": [
    "import numpy as np\n",
    "import matplotlib.pyplot as plt\n",
    "import pylab \n",
    "\n",
    "from matplotlib.legend_handler import HandlerLine2D\n",
    "from numpy.linalg import inv\n",
    "dataset =  (np.genfromtxt('communities.data', delimiter=',',dtype=float))\n",
    "print dataset.shape"
   ]
  },
  {
   "cell_type": "code",
   "execution_count": 30,
   "metadata": {
    "collapsed": false
   },
   "outputs": [
    {
     "name": "stdout",
     "output_type": "stream",
     "text": [
      "(1994, 122)\n",
      "(1994, 1)\n"
     ]
    }
   ],
   "source": [
    "X = dataset[:,5:-1]\n",
    "Y = dataset[:,-1:]\n",
    "print X.shape\n",
    "print Y.shape"
   ]
  },
  {
   "cell_type": "markdown",
   "metadata": {},
   "source": [
    "## Computing mean and replacing missing values"
   ]
  },
  {
   "cell_type": "code",
   "execution_count": 31,
   "metadata": {
    "collapsed": true
   },
   "outputs": [],
   "source": [
    "#compute mean with discarding nans\n",
    "myMean =  np.nanmean(X, axis=0)\n",
    "#find where is nan\n",
    "index= np.isnan(X)\n",
    "#discarding third column in the caculations\n",
    "index[:,3] = False\n",
    "for i in range(X.shape[1]):\n",
    "    X[index[:,i],i] = myMean[i]\n",
    "    \n",
    "myMean2 =  np.mean(X, axis=0)\n",
    "index= np.isnan(X)"
   ]
  },
  {
   "cell_type": "markdown",
   "metadata": {},
   "source": [
    "## Making datasets for Cross Validation and writing data to files"
   ]
  },
  {
   "cell_type": "code",
   "execution_count": 32,
   "metadata": {
    "collapsed": false
   },
   "outputs": [
    {
     "name": "stdout",
     "output_type": "stream",
     "text": [
      "[ 0.01580374  0.01616757  0.0163014   0.01613539  0.01556101]\n",
      "[ 0.02011818  0.01892912  0.90061031  0.01923793  0.02132361]\n"
     ]
    }
   ],
   "source": [
    "index= np.random.randint(5, size=X.shape[0])\n",
    "folds = 5 \n",
    "MSEtrain      = np.zeros((folds,), dtype=float)\n",
    "MSEvalidation = np.zeros((folds,), dtype=float)\n",
    "Warray = np.zeros((5,122),dtype=float)\n",
    "for i in range(folds):\n",
    "    TS = X[index !=i]\n",
    "    VS = X[index == i]\n",
    "    TSy = Y[index !=i]\n",
    "    VSy = Y[index == i]\n",
    "    W1 = inv(np.dot(TS.T,TS))\n",
    "    W2 = np.dot(TS.T,TSy)\n",
    "    W = np.dot(W1,W2)\n",
    "    nameTrain = \"CandC-train%d.csv\"%(i+1);\n",
    "    nameValid = \"CandC-test%d.csv\"%(i+1)\n",
    "    np.savetxt(nameTrain, np.concatenate((TS, TSy), axis=1), delimiter=',')\n",
    "    np.savetxt(nameValid, np.concatenate((VS, VSy), axis=1), delimiter=',')\n",
    "    Yestimated  = np.dot(TS,W )\n",
    "    YestimatedV = np.dot(VS,W )\n",
    "    MSEtrain[i]      = np.dot((TSy-Yestimated).T, (TSy-Yestimated))/TSy.shape[0]\n",
    "    MSEvalidation[i] = np.dot((VSy-YestimatedV).T, (VSy-YestimatedV))/VSy.shape[0]\n",
    "    Warray[i] = W.reshape(122)\n",
    "\n",
    "print MSEtrain\n",
    "print MSEvalidation\n"
   ]
  },
  {
   "cell_type": "code",
   "execution_count": 33,
   "metadata": {
    "collapsed": false
   },
   "outputs": [
    {
     "name": "stdout",
     "output_type": "stream",
     "text": [
      "min of MSEtrain is:\n",
      "0.0155610087627\n",
      "\n",
      "min of MSEvalidation is:\n",
      "0.0189291242613\n"
     ]
    }
   ],
   "source": [
    "print \"min of MSEtrain is:\"\n",
    "print MSEtrain[np.argmin(MSEtrain)]\n",
    "print\n",
    "print \"min of MSEvalidation is:\"\n",
    "print MSEvalidation[np.argmin(MSEvalidation)]"
   ]
  },
  {
   "cell_type": "code",
   "execution_count": 34,
   "metadata": {
    "collapsed": false
   },
   "outputs": [
    {
     "name": "stdout",
     "output_type": "stream",
     "text": [
      "Average MSE of train is 0.015994\n",
      "Average MSE of validatoin is 0.196044\n"
     ]
    }
   ],
   "source": [
    "print \"Average MSE of train is %f\"%(np.sum(MSEtrain)/MSEtrain.shape[0])\n",
    "print \"Average MSE of validatoin is %f\"%(np.sum(MSEvalidation)/MSEvalidation.shape[0])"
   ]
  },
  {
   "cell_type": "markdown",
   "metadata": {},
   "source": [
    "## Learned parameters (W)"
   ]
  },
  {
   "cell_type": "code",
   "execution_count": 35,
   "metadata": {
    "collapsed": false
   },
   "outputs": [
    {
     "name": "stdout",
     "output_type": "stream",
     "text": [
      "[  3.73624625e-01  -4.56620706e-02   1.48587529e-01  -9.41123174e-02\n",
      "  -1.66171000e-02   3.54766815e-02   8.55990135e-02  -3.36800117e-01\n",
      "  -1.51781499e-02   1.83245456e-02  -5.02161060e-01   5.08293711e-02\n",
      "  -1.74634067e-01  -8.02178829e-02   3.16034771e-02  -1.79235596e-01\n",
      "   1.79298670e-01   3.40838026e-02  -8.74761548e-02   3.58194064e-01\n",
      "  -6.71762601e-02  -2.79336180e-01  -4.15059612e-02  -3.75572589e-02\n",
      "   2.91057122e-02   4.58531136e-02   4.12136822e-02   1.00497293e-01\n",
      "  -2.08924099e-01  -9.61432223e-02   5.30037249e-03   6.81905815e-02\n",
      "  -1.96729546e-03   2.39155738e-01  -8.57227782e-02  -3.71872666e-02\n",
      "   1.04315207e-01   1.18474806e-01   1.69469053e-01   2.10731910e-01\n",
      "  -1.92535316e-01   5.88154218e-02  -8.46405394e-02  -1.40622666e-01\n",
      "  -1.70025390e-01  -1.66293215e-02  -4.69292909e-03   7.94912360e-02\n",
      "  -2.07359518e-01  -1.59966819e-01   1.22720197e-01  -1.85625496e-01\n",
      "   4.34954698e-03   5.25547577e-02  -1.04881460e-01   5.42409534e-02\n",
      "   5.27332766e-02  -2.51895173e-01   4.79884436e-01  -3.23362037e-01\n",
      "  -2.41850361e-02  -9.53516779e-02  -1.39923522e-02  -1.23302364e-01\n",
      "   4.63623220e-01  -1.67926386e-02  -2.20006663e-01  -7.51939067e-01\n",
      "   2.12629010e-01   9.35065916e-02   1.84328528e-02   1.89937701e-01\n",
      "  -4.45649592e-02   6.28257322e-01   6.84368191e-02  -7.34940320e-02\n",
      "   4.87146041e-03   4.41301572e-02  -3.40732451e-02  -2.13708862e-01\n",
      "   6.97808180e-03   1.35344443e-01  -2.56791860e-01   4.64909223e-02\n",
      "  -1.18067915e-01   3.95430823e-01   5.39112798e-02  -5.06944628e-02\n",
      "  -8.97591694e-02   1.77145405e-01   1.16953143e-01   1.41939830e-01\n",
      "   1.77105665e-02   5.84344690e-03   1.89303017e-02   1.95899548e-02\n",
      "   3.85580542e-01  -2.07460948e+01   4.45051669e-01   5.94983881e-01\n",
      "  -6.57560567e-02  -9.93196074e-02   1.47173433e-01   2.02940582e+01\n",
      "  -8.29833846e-02   1.00004298e-01  -3.30415187e-02   2.60475520e-02\n",
      "   4.66725369e-02   1.66383507e-01  -2.54143592e-01  -3.45840609e-02\n",
      "  -3.58331325e-02  -3.30351796e-03  -6.40914118e-03  -3.96669787e-02\n",
      "   1.13535618e-01   2.53136296e-01  -5.67407446e-02   2.32752289e-02\n",
      "   4.49775419e-02  -4.26646714e-02]\n",
      "\n",
      "[ -1.46912450e-01  -9.02529209e-03   1.83247614e-01  -7.06177689e-02\n",
      "  -5.48826029e-02   4.31858353e-02   3.17885984e-02  -7.55651665e-02\n",
      "  -1.46559012e-01   5.21335132e-02   8.32563908e-02   3.78822142e-02\n",
      "  -2.89393172e-01  -1.88119957e-01   6.68246755e-02  -6.03683801e-02\n",
      "   6.36669381e-02   4.72860391e-02  -1.41726297e-01   2.83985769e-01\n",
      "   2.68476891e-01  -4.52932257e-01  -2.91689224e-02  -2.70835341e-02\n",
      "   1.57839289e-02   3.99025725e-02   3.29135840e-02   1.94256669e-01\n",
      "  -2.14909206e-01  -1.61013053e-01   1.55399654e-01   2.26057530e-02\n",
      "  -1.18693000e-02   1.69849932e-01  -6.32285560e-02  -4.03135334e-02\n",
      "   7.13600245e-02   1.42762412e-01   6.00218825e-01   2.13876876e-01\n",
      "   3.82705088e-01  -9.11891178e-01  -1.02648876e-01  -5.72614584e-02\n",
      "  -3.05086382e-01  -1.24271130e-02   3.75898438e-02   2.12571447e-02\n",
      "  -1.53533409e-01  -2.70589385e-01   1.23587671e-01  -1.59677289e-01\n",
      "   2.31457183e-02  -1.04046536e-02  -2.53941992e-02   4.93916315e-03\n",
      "  -8.94498608e-02  -1.38951171e-01   4.77322554e-01  -2.69875402e-01\n",
      "   2.12432674e-02  -1.88365399e-01   2.24659777e-01  -4.02136435e-01\n",
      "   6.99985642e-01  -1.31045675e-01  -2.38896560e-01  -5.91666592e-01\n",
      "   1.96524300e-01   9.35372909e-02   5.04821551e-02   1.51134989e-01\n",
      "  -4.84236197e-02   4.87062395e-01   4.67738134e-02  -6.99475074e-02\n",
      "  -1.12245841e-02   4.48628753e-02  -1.38816104e-02  -3.57022577e-01\n",
      "   3.12846317e-01  -5.59859475e-02  -2.25931463e-01  -9.28592710e-02\n",
      "   3.37027232e-02   3.42433706e-01   4.25128098e-02  -4.96751201e-02\n",
      "  -8.06410197e-02   8.02113460e-02   1.69403342e-01   2.60223770e-01\n",
      "   2.25691710e-03  -5.21095391e-02   4.69173570e-02   1.45945644e-02\n",
      "   4.60114622e-01  -2.64170023e+01   5.47568175e-01   2.53522928e-01\n",
      "  -2.28531270e-02   9.13917738e-02   1.12038415e-02   2.62923155e+01\n",
      "  -1.18254427e-01  -1.90441947e-02  -1.22737739e-02   1.54252896e-02\n",
      "   9.61371055e-02  -5.53326998e-02  -1.39191030e-01  -3.40228279e-02\n",
      "  -3.29077293e-02   3.98277785e-02  -8.43725405e-03  -3.47868264e-02\n",
      "   3.05781349e-02   1.75569934e-01   4.11850484e-03   5.41157627e-02\n",
      "   2.58385670e-02  -1.92565447e-01]\n",
      "\n",
      "[  2.38905248e-01   1.44032613e-02   2.21291845e-01   1.53610056e-02\n",
      "  -1.25548395e-02   3.72945746e-02   7.14763200e-02  -2.91694861e-01\n",
      "  -5.80176921e-02   9.67240515e-02  -2.90634381e-01   5.42361059e-02\n",
      "  -1.12862983e-01  -2.05884618e-01   3.93972626e-02  -1.83928523e-01\n",
      "   4.35257798e-02  -2.35554952e-02  -8.05252423e-02   2.54343445e-01\n",
      "   1.70854537e-01  -4.25676146e-01  -2.81332529e-02  -4.11296546e-02\n",
      "   2.57012498e-02   3.86012678e-02   2.41684518e-02  -2.31923316e-02\n",
      "  -1.24820201e-01  -1.14701241e-01   6.03011051e-02   2.56432447e-02\n",
      "   3.44108061e-02   2.80054958e-01  -6.75514158e-02  -9.38133971e-03\n",
      "   8.72786087e-02   1.14114702e-01   4.90219153e-01   1.95434371e-01\n",
      "   4.13949357e-01  -8.65363092e-01   8.66162196e-02   3.79780510e-02\n",
      "  -4.04366923e-01  -3.27115388e-02  -8.19553044e-03   8.40289052e-02\n",
      "  -2.00600343e-01  -6.27636426e-02   1.16678283e-01  -1.56598163e-01\n",
      "   4.68290102e-02   1.10774679e-02  -1.41193276e-01   1.31121877e-01\n",
      "  -1.60011702e-01  -4.91327845e-02   7.62411313e-01  -5.03610313e-01\n",
      "  -1.03057116e-01  -1.99875961e-01  -2.82973913e-01   1.59740304e-01\n",
      "   4.31442698e-01  -1.33410602e-01  -2.55822659e-01  -5.80610898e-01\n",
      "   2.01889874e-01   1.29802718e-01   4.02754194e-02   1.36906712e-01\n",
      "  -3.99001807e-02   5.11384800e-01   5.62451076e-02  -7.30364175e-02\n",
      "  -1.36204153e-02   6.18059301e-05   1.57454610e-02  -1.45182165e-01\n",
      "   7.55934767e-02   4.92502471e-02  -2.21664143e-01  -2.94982421e-02\n",
      "  -8.54955471e-02   3.73413289e-01   3.04751343e-02  -7.59615051e-02\n",
      "  -7.02099333e-02   1.61525309e-01   1.83483868e-01   4.36370952e-02\n",
      "  -2.88259974e-02  -5.46320040e-02   2.10230696e-02   6.20647732e-02\n",
      "  -9.63057083e-02   1.86835297e+03   7.30399014e-01   8.41301480e-01\n",
      "  -3.26471149e-01  -3.77938320e-02   2.20670039e-01  -1.86865169e+03\n",
      "  -6.54580664e-03  -1.97662903e-01  -2.85538874e-04   3.27802504e-02\n",
      "   8.02005181e-02  -1.40806648e-01  -6.09729091e-02   5.35652948e-03\n",
      "  -5.08474177e-04   3.03614048e-02   8.25473976e-04  -5.11350189e-02\n",
      "   9.98646552e-02   1.01950711e+00  -9.52177611e-02   1.93495092e-02\n",
      "  -5.32070953e-02  -4.59355700e-01]\n",
      "\n",
      "[  6.48246206e-02  -4.64967294e-02   2.49903235e-01  -4.63974783e-03\n",
      "  -3.54031151e-02   1.07872383e-01   2.03725068e-01  -1.85742521e-01\n",
      "  -3.07594014e-01   1.34271190e-01  -1.59935896e-01   5.09317997e-02\n",
      "  -2.30368552e-01  -2.13621852e-01   3.56242737e-02  -1.92285725e-01\n",
      "   3.03490135e-02   2.63665332e-02  -9.21826013e-02   3.07081723e-01\n",
      "   1.69641134e-01  -4.08293605e-01  -2.84070739e-02  -3.45386546e-02\n",
      "   1.12259045e-02   4.30090222e-02   3.21185698e-02   2.75551868e-02\n",
      "  -1.50122502e-01  -1.04470863e-01   9.24632181e-02   7.10938506e-02\n",
      "   5.15323431e-02   2.57200929e-01  -2.68857671e-02   2.71809580e-02\n",
      "   9.63305268e-03   5.23151140e-02   4.39119192e-01   2.81825448e-01\n",
      "   1.23286308e-01  -5.01256367e-01  -1.09123410e-01   1.31306635e-01\n",
      "  -3.35678398e-01  -3.51127822e-02  -8.08112961e-03   4.22646480e-02\n",
      "  -1.57495784e-01  -1.93910002e-01   1.34970682e-01  -1.47941367e-01\n",
      "   2.97815436e-02   6.61805143e-02  -1.12773623e-01   5.24706240e-02\n",
      "  -4.53462133e-03  -3.71936523e-01   4.60618833e-01  -5.08721261e-02\n",
      "  -1.86654591e-02  -1.90554412e-01  -5.91178745e-02  -1.30840887e-01\n",
      "   8.14116461e-01  -2.17144614e-01  -2.36436255e-01  -4.01934903e-01\n",
      "   1.54544443e-01   1.16698828e-01   2.29554086e-02   1.82601978e-01\n",
      "  -4.24271617e-02   2.42929599e-01   4.00075153e-02  -7.40066259e-02\n",
      "  -1.05756876e-02  -3.39934082e-03  -1.50570741e-02  -4.18080984e-01\n",
      "   4.09786090e-01  -4.58557649e-02  -2.02237920e-01  -3.57878689e-02\n",
      "  -4.29815770e-02   3.46132647e-01   4.12168921e-02  -6.18030351e-02\n",
      "  -9.82816773e-02   8.98509049e-02   1.70301426e-01   1.46894630e-01\n",
      "   2.64800169e-02   1.41689965e-03  -1.17312788e-03  -6.31362484e-03\n",
      "   5.18108894e-01  -1.79315074e+01   3.36961802e-01  -3.60853248e-01\n",
      "  -3.48169640e-01  -1.93833278e-01   2.75608082e-01   1.88752619e+01\n",
      "  -1.31213858e-01  -3.84985172e-02   7.74059465e-02   6.38903690e-02\n",
      "   7.79129369e-02  -6.12066258e-02  -4.50591633e-01  -3.29412319e-02\n",
      "  -4.94969439e-02   7.85683558e-02  -6.46635438e-03  -4.02387705e-02\n",
      "   9.77405338e-02   5.14019117e-01   8.71840955e-02   3.30116147e-02\n",
      "   7.76227653e-02  -3.44578870e-01]\n",
      "\n",
      "[  4.66378224e-01  -2.34608296e-02   1.43775634e-01  -9.36930934e-02\n",
      "   1.48982946e-03   9.40496060e-02   1.62849903e-01  -2.62310442e-01\n",
      "  -1.81603605e-01   1.31290290e-02  -4.84638061e-01   4.73115735e-02\n",
      "  -2.08734649e-01  -2.22868413e-01   5.47127251e-02  -2.30558328e-01\n",
      "   1.84263221e-01  -3.38087579e-02  -8.94987962e-02   3.03383945e-01\n",
      "   1.96243835e-01  -4.16051825e-01  -4.67084098e-02  -3.13897823e-02\n",
      "   2.11860078e-02   4.71369305e-02   2.95769293e-02  -6.86919643e-03\n",
      "  -1.45819261e-01  -9.71159791e-02   7.86557216e-02   1.08974246e-01\n",
      "  -3.23095872e-02   3.25646704e-01  -6.72227237e-02  -3.58305146e-02\n",
      "   4.82535621e-02   1.15851782e-01   5.31671624e-01   2.72129820e-01\n",
      "   1.19166849e-01  -5.77728923e-01  -3.24879651e-01   1.56554034e-01\n",
      "  -3.94087416e-01  -5.23765562e-02  -2.78082227e-02   7.69473975e-02\n",
      "  -2.20019445e-01   4.47054184e-02   1.25361115e-01  -2.90910632e-01\n",
      "   3.13879926e-02   2.47147216e-02  -4.19900145e-02   6.15158563e-03\n",
      "  -6.14382464e-02  -1.76024016e-02   8.01156727e-02  -2.89525722e-02\n",
      "  -3.46627683e-03  -2.18670613e-01   1.83490502e-02  -2.14326098e-01\n",
      "   8.01516783e-01  -5.83942894e-02  -2.01433337e-01  -5.84911390e-01\n",
      "   2.61044925e-01   1.07858678e-01   2.73194619e-02   9.26726946e-02\n",
      "  -6.03579867e-02   4.16846031e-01   3.15248379e-02  -8.51516019e-02\n",
      "  -4.75248202e-02  -8.36311927e-03  -1.73770191e-02  -4.62766643e-01\n",
      "   4.73196761e-01  -1.15460647e-01  -2.36504126e-01  -7.42355197e-02\n",
      "  -8.00686239e-02   3.89553688e-01   5.46372717e-02   2.06070700e-03\n",
      "  -8.13333435e-02   1.33987691e-01   1.96001556e-01   1.66899165e-01\n",
      "   3.97904662e-02   1.19051119e-02   3.43588221e-02  -2.15586039e-02\n",
      "   4.51656158e-01  -3.01304516e+01   5.33166628e-01   1.01733329e+00\n",
      "  -1.48059495e-01  -3.54973717e-02   1.87663395e-01   2.94863279e+01\n",
      "  -3.74317844e-02  -5.41137163e-02   8.88633849e-02   1.39663194e-01\n",
      "   8.39345956e-02  -1.55704476e-01  -3.70152126e-01  -3.55917292e-02\n",
      "  -6.33796656e-03   1.95313802e-02  -1.99093796e-02  -3.38964927e-02\n",
      "  -2.85391135e-02   5.56894869e-01  -5.34172710e-02   6.12527346e-02\n",
      "   5.17761586e-02  -2.32862217e-01]\n",
      "\n"
     ]
    }
   ],
   "source": [
    "for i in range(5):\n",
    "    print Warray[i]\n",
    "    print "
   ]
  },
  {
   "cell_type": "code",
   "execution_count": 36,
   "metadata": {
    "collapsed": false
   },
   "outputs": [
    {
     "data": {
      "image/png": "[encoded data removed]",
      "text/plain": [
       "<matplotlib.figure.Figure at 0x7fc26ade9390>"
      ]
     },
     "metadata": {},
     "output_type": "display_data"
    }
   ],
   "source": [
    "fig = plt.figure(figsize=(10,6))\n",
    "ax = fig.add_subplot(111)\n",
    "ax.set_title('Training and Validation MSE')\n",
    "plt.plot(range(5),MSEtrain,      label=\"Train MSE\"     )\n",
    "plt.plot(range(5),MSEvalidation, label=\"Validation MSE\")\n",
    "ax.set_xlabel('Folds')\n",
    "ax.set_ylabel('MSE value')\n",
    "ax.legend(loc='best')\n",
    "\n",
    "\n",
    "\n",
    "plt.show()"
   ]
  },
  {
   "cell_type": "markdown",
   "metadata": {
    "collapsed": true
   },
   "source": [
    "## Ridge"
   ]
  },
  {
   "cell_type": "code",
   "execution_count": 37,
   "metadata": {
    "collapsed": false
   },
   "outputs": [
    {
     "name": "stdout",
     "output_type": "stream",
     "text": [
      "(1600, 122)\n",
      "(1994, 122)\n"
     ]
    }
   ],
   "source": [
    "print TS.shape\n",
    "print X.shape"
   ]
  },
  {
   "cell_type": "code",
   "execution_count": 38,
   "metadata": {
    "collapsed": false
   },
   "outputs": [
    {
     "name": "stdout",
     "output_type": "stream",
     "text": [
      "[[  1.60107444e-02   1.65071147e-02   1.55583011e-02   1.56921151e-02\n",
      "    1.62269005e-02]\n",
      " [  5.39627502e+05   5.41383152e+05   5.47130026e+05   5.73043608e+05\n",
      "    5.54652237e+05]\n",
      " [  2.15850996e+06   2.16553256e+06   2.18852006e+06   2.29217438e+06\n",
      "    2.21860890e+06]\n",
      " [  4.85664739e+06   4.87244824e+06   4.92417011e+06   5.15739235e+06\n",
      "    4.99187001e+06]\n",
      " [  8.63403979e+06   8.66213019e+06   8.75408018e+06   9.16869749e+06\n",
      "    8.87443556e+06]\n",
      " [  1.34906872e+07   1.35345784e+07   1.36782503e+07   1.43260898e+07\n",
      "    1.38663055e+07]\n",
      " [  1.94265895e+07   1.94897929e+07   1.96966804e+07   2.06295693e+07\n",
      "    1.99674800e+07]\n",
      " [  2.64417468e+07   2.65277737e+07   2.68093705e+07   2.80791360e+07\n",
      "    2.71779589e+07]\n",
      " [  3.45361591e+07   3.46485207e+07   3.50163207e+07   3.66747899e+07\n",
      "    3.54977422e+07]\n",
      " [  4.37098264e+07   4.38520340e+07   4.43175309e+07   4.64165310e+07\n",
      "    4.49268299e+07]]\n",
      "[[  1.88136050e-02   1.08772946e+00   2.16661965e-02   2.05148164e-02\n",
      "    1.93250960e-02]\n",
      " [  5.45687301e+05   5.41611181e+05   5.46216463e+05   5.67596725e+05\n",
      "    5.53091858e+05]\n",
      " [  2.18276310e+06   2.16662091e+06   2.18485405e+06   2.27037489e+06\n",
      "    2.21234853e+06]\n",
      " [  4.91122741e+06   4.87503027e+06   4.91591277e+06   5.10833452e+06\n",
      "    4.97777004e+06]\n",
      " [  8.73108023e+06   8.66683926e+06   8.73939264e+06   9.08147562e+06\n",
      "    8.84935638e+06]\n",
      " [  1.36423216e+07   1.35420479e+07   1.36552936e+07   1.41897982e+07\n",
      "    1.38271076e+07]\n",
      " [  1.96449514e+07   1.95006561e+07   1.96636158e+07   2.04333022e+07\n",
      "    1.99110236e+07]\n",
      " [  2.67389698e+07   2.65426640e+07   2.67643591e+07   2.78119877e+07\n",
      "    2.71011044e+07]\n",
      " [  3.49243766e+07   3.46680716e+07   3.49575235e+07   3.63258546e+07\n",
      "    3.53973501e+07]\n",
      " [  4.42011720e+07   4.38768787e+07   4.42431091e+07   4.59749030e+07\n",
      "    4.47997606e+07]]\n"
     ]
    }
   ],
   "source": [
    "steps = 10\n",
    "folds = 5 \n",
    "index= np.random.randint(folds, size=X.shape[0])\n",
    "\n",
    "Wridge = np.zeros((steps,X.shape[1]), dtype=float)\n",
    "\n",
    "\n",
    "MSEtrainRidge      = np.zeros((steps,folds), dtype=float)\n",
    "MSEvalidationRidge = np.zeros((steps,folds), dtype=float)\n",
    "Lamda = np.arange(0,1,1.0/steps) #5 steps\n",
    "\n",
    "for i in range(steps):\n",
    "    for j in range(folds):\n",
    "        TS = X[index !=j]\n",
    "        VS = X[index == j]\n",
    "        TSy = Y[index !=j]\n",
    "        VSy = Y[index == j]\n",
    "        W1 = inv(np.dot(TS.T,TS)) +np.dot(Lamda[i],np.identity(122))\n",
    "        W2 = np.dot(TS.T,TSy)\n",
    "        Wridge[j,:]  = np.dot(W1,W2).ravel()\n",
    "        YRidge  = np.dot(TS,Wridge[j])\n",
    "        YRidgeV = np.dot(VS,Wridge[j])\n",
    "        YRidge = YRidge.reshape(YRidge.shape[0],1)\n",
    "        YRidgeV = YRidgeV.reshape(YRidgeV.shape[0],1)\n",
    "        MSEtrainRidge[i,j]      = np.dot((TSy-YRidge).T, (TSy-YRidge))/TSy.shape[0]\n",
    "        MSEvalidationRidge[i,j] = np.dot((VSy-YRidgeV).T, (VSy-YRidgeV))/VSy.shape[0]\n",
    "    \n",
    "\n",
    "print MSEtrainRidge\n",
    "print MSEvalidationRidge"
   ]
  },
  {
   "cell_type": "code",
   "execution_count": 39,
   "metadata": {
    "collapsed": false
   },
   "outputs": [
    {
     "name": "stdout",
     "output_type": "stream",
     "text": [
      "Average MSE of train is \n",
      "[  7.99951758e-03   2.75583653e+05   1.10233459e+06   2.48025281e+06\n",
      "   4.40933832e+06   6.88959112e+06   9.92101121e+06   1.35035986e+07\n",
      "   1.76373533e+07   2.23222752e+07]\n",
      "Average MSE of validatoin is \n",
      "[  1.16804918e-01   2.75420353e+05   1.10169615e+06   2.47882750e+06\n",
      "   4.40681441e+06   6.88565688e+06   9.91535491e+06   1.34959085e+07\n",
      "   1.76273176e+07   2.23095823e+07]\n"
     ]
    }
   ],
   "source": [
    "print \"Average MSE of train is \"\n",
    "print (np.sum(MSEtrainRidge, axis=1)/MSEtrainRidge.shape[0])\n",
    "print \"Average MSE of validatoin is \"\n",
    "print (np.sum(MSEvalidationRidge, axis=1)/MSEvalidationRidge.shape[0])"
   ]
  },
  {
   "cell_type": "code",
   "execution_count": 40,
   "metadata": {
    "collapsed": false
   },
   "outputs": [
    {
     "data": {
      "image/png": "[encoded data removed]",
      "text/plain": [
       "<matplotlib.figure.Figure at 0x7fc26ac7af50>"
      ]
     },
     "metadata": {},
     "output_type": "display_data"
    }
   ],
   "source": [
    "fig = plt.figure(figsize=(10,6))\n",
    "ax = fig.add_subplot(111)\n",
    "ax.set_title('Training and Validation MSE')\n",
    "plt.plot(Lamda,MSEtrainRidge,      label=\"Train MSE Ridge\"     )\n",
    "plt.plot(Lamda,MSEvalidationRidge, label=\"Validation MSE Ridge\")\n",
    "ax.set_xlabel('Lamda')\n",
    "ax.set_ylabel('MSE value')\n",
    "ax.legend(loc='best')\n",
    "plt.show()"
   ]
  },
  {
   "cell_type": "code",
   "execution_count": 44,
   "metadata": {
    "collapsed": false
   },
   "outputs": [
    {
     "name": "stdout",
     "output_type": "stream",
     "text": [
      "[  37.19722539  153.70735392  113.71103244  200.57290312   56.00472671\n",
      "   69.61812254  145.83050746  174.14107063  118.91008626  147.71153607\n",
      "   38.7533932   250.51987153   93.62789109  170.74404408   88.78610675\n",
      "  134.64294286  166.30531131  147.0954257   157.65967934   99.53920453\n",
      "   97.53245465  112.44791236   83.53174908   63.83858472   98.46987201\n",
      "   88.42611067  115.95304946   39.73756037  139.46708285  132.91440553\n",
      "  160.05877649  102.2117439   154.35681466  151.95934454  130.02040124\n",
      "  144.69881306  150.11307136  129.73944059  188.75047932  165.12169625\n",
      "  197.66766955  200.37843781  170.51887711  160.06132217  160.13602363\n",
      "  176.70233998  155.12856439  169.38045127  170.67583589   31.26540026\n",
      "  140.80162364   19.74446458  122.65100528  138.66057021  153.16125975\n",
      "  165.1833159    80.41222401   81.71408647   83.87100772   83.0947148\n",
      "  249.45763502   71.45499086  113.53196039  101.55633854  153.19711657\n",
      "  159.72218492  150.29193949  155.03778989   93.28724068  195.61067927\n",
      "   74.164636     49.26316648  223.63765818  156.99261253  101.49339788\n",
      "  146.86621371  158.89929824  126.58076068  105.20355737   74.80705976\n",
      "   76.0947176    78.72350622  100.18213584  110.62180815  125.54274134\n",
      "  114.94279834  184.30470786  157.00284246  139.5930669    25.01437236\n",
      "   20.84124622   87.83201244  199.19233667  170.48623462  214.67993253\n",
      "  217.38560313   27.98369013   50.45440593  309.79320668   85.92502328\n",
      "   37.70106363   75.87360576  118.54472165  100.18034253  226.76515894\n",
      "  239.9495771    82.29446086   47.49175484   39.91131128   94.42720118\n",
      "   28.87217478  189.82811048  103.68823345   30.57041275   99.12050083\n",
      "   68.06837887   61.68179594   30.32756282  235.50959731  149.6839139\n",
      "   59.96645247   67.21146388]\n",
      "\n"
     ]
    },
    {
     "ename": "IndexError",
     "evalue": "index 48 is out of bounds for axis 0 with size 10",
     "output_type": "error",
     "traceback": [
      "\u001b[0;31m\u001b[0m",
      "\u001b[0;31mIndexError\u001b[0mTraceback (most recent call last)",
      "\u001b[0;32m<ipython-input-44-432178d86219>\u001b[0m in \u001b[0;36m<module>\u001b[0;34m()\u001b[0m\n\u001b[1;32m      1\u001b[0m \u001b[0;32mprint\u001b[0m \u001b[0mWridge\u001b[0m\u001b[0;34m[\u001b[0m\u001b[0mnp\u001b[0m\u001b[0;34m.\u001b[0m\u001b[0margmin\u001b[0m\u001b[0;34m(\u001b[0m\u001b[0mMSEvalidationRidge\u001b[0m\u001b[0;34m)\u001b[0m\u001b[0;34m]\u001b[0m\u001b[0;34m\u001b[0m\u001b[0m\n\u001b[1;32m      2\u001b[0m \u001b[0;32mprint\u001b[0m\u001b[0;34m\u001b[0m\u001b[0m\n\u001b[0;32m----> 3\u001b[0;31m \u001b[0;32mprint\u001b[0m \u001b[0mWridge\u001b[0m\u001b[0;34m[\u001b[0m\u001b[0mnp\u001b[0m\u001b[0;34m.\u001b[0m\u001b[0margmax\u001b[0m\u001b[0;34m(\u001b[0m\u001b[0mMSEvalidationRidge\u001b[0m\u001b[0;34m)\u001b[0m\u001b[0;34m]\u001b[0m\u001b[0;34m\u001b[0m\u001b[0m\n\u001b[0m",
      "\u001b[0;31mIndexError\u001b[0m: index 48 is out of bounds for axis 0 with size 10"
     ]
    }
   ],
   "source": [
    "print Wridge[np.argmin(MSEvalidationRidge)]\n",
    "print\n",
    "print Wridge[np.argmax(MSEvalidationRidge)]"
   ]
  },
  {
   "cell_type": "code",
   "execution_count": null,
   "metadata": {
    "collapsed": true
   },
   "outputs": [],
   "source": []
  }
 ],
 "metadata": {
  "kernelspec": {
   "display_name": "Python 2",
   "language": "python",
   "name": "python2"
  },
  "language_info": {
   "codemirror_mode": {
    "name": "ipython",
    "version": 2
   },
   "file_extension": ".py",
   "mimetype": "text/x-python",
   "name": "python",
   "nbconvert_exporter": "python",
   "pygments_lexer": "ipython2",
   "version": "2.7.13"
  }
 },
 "nbformat": 4,
 "nbformat_minor": 2
}
