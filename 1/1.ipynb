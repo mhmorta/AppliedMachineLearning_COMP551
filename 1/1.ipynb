{
 "cells": [
  {
   "cell_type": "markdown",
   "metadata": {},
   "source": [
    "# Assignemnt1\n",
    "## Mehrzad Mortazavi\n",
    "### Part1"
   ]
  },
  {
   "cell_type": "markdown",
   "metadata": {},
   "source": [
    "First, reading the data into the variables:"
   ]
  },
  {
   "cell_type": "code",
   "execution_count": 109,
   "metadata": {
    "collapsed": true
   },
   "outputs": [],
   "source": [
    "import numpy as np\n",
    "import matplotlib.pyplot as plt\n",
    "import pylab \n",
    "\n",
    "from matplotlib.legend_handler import HandlerLine2D\n",
    "from numpy.linalg import inv\n",
    "train =  (np.genfromtxt('Dataset_1_train.csv', delimiter=',',dtype=float))[:,0:2]\n",
    "val   =  (np.genfromtxt('Dataset_1_valid.csv', delimiter=',',dtype=float))[:,0:2]\n",
    "test  =  (np.genfromtxt('Dataset_1_test.csv', delimiter=',', dtype=float))[:,0:2]"
   ]
  },
  {
   "cell_type": "code",
   "execution_count": 110,
   "metadata": {},
   "outputs": [
    {
     "name": "stdout",
     "output_type": "stream",
     "text": [
      "(50, 2)\n",
      "(50, 2)\n",
      "(50, 2)\n"
     ]
    }
   ],
   "source": [
    "print train.shape\n",
    "print val.shape\n",
    "print test.shape"
   ]
  },
  {
   "cell_type": "markdown",
   "metadata": {},
   "source": [
    "### Retrieving Data(X) and target(Y) from datasets:"
   ]
  },
  {
   "cell_type": "code",
   "execution_count": 111,
   "metadata": {
    "collapsed": true
   },
   "outputs": [],
   "source": [
    "X = train[:,0:1]\n",
    "Y = train[:,1:2]\n",
    "\n",
    "Xv = val[:,0:1]\n",
    "Yv = val[:,1:2]\n",
    "Xt = test[:,0:1]\n",
    "Yt = test[:,1:2]"
   ]
  },
  {
   "cell_type": "markdown",
   "metadata": {},
   "source": [
    "## Plotting data points"
   ]
  },
  {
   "cell_type": "code",
   "execution_count": 112,
   "metadata": {
    "collapsed": true
   },
   "outputs": [],
   "source": [
    "#Plotting data\n",
    "\n",
    "fig = plt.figure(figsize=(10,5))\n",
    "ax = fig.add_subplot(111)\n",
    "ax.set_title('Data and fitting line')\n",
    "ax.scatter(x=X,y=Y,label='Training Data')\n",
    "ax.scatter(x=Xv,y=Yv,label='Validation Data',color='green')\n",
    "ax.set_xlabel('Data')\n",
    "ax.set_ylabel('Target')\n",
    "ax.legend(loc='best');\n",
    "#plt.show()"
   ]
  },
  {
   "cell_type": "markdown",
   "metadata": {},
   "source": [
    "### Generating 20th order X"
   ]
  },
  {
   "cell_type": "code",
   "execution_count": 113,
   "metadata": {
    "collapsed": true
   },
   "outputs": [],
   "source": [
    "myX = np.ones((X.shape[0],21), dtype=np.float)\n",
    "for i in range(21):\n",
    "    myX[:,i] =  np.power(X, 20-i).ravel()\n",
    "X = myX\n",
    "\n",
    "myXv = np.ones((Xv.shape[0],21), dtype=np.float)\n",
    "for i in range(21):\n",
    "    myXv[:,i] =  np.power(Xv, 20-i).ravel()\n",
    "Xv = myXv"
   ]
  },
  {
   "cell_type": "markdown",
   "metadata": {},
   "source": [
    "## Computing estimaged W and Y"
   ]
  },
  {
   "cell_type": "code",
   "execution_count": 114,
   "metadata": {
    "collapsed": true
   },
   "outputs": [],
   "source": [
    "W1 = inv(np.dot(X.T,X))\n",
    "W2 = np.dot(X.T,Y)\n",
    "W = np.dot(W1,W2)\n",
    "Yestimated  = np.dot(X,W)\n",
    "YestimatedV = np.dot(Xv,W)"
   ]
  },
  {
   "cell_type": "code",
   "execution_count": 115,
   "metadata": {
    "collapsed": true
   },
   "outputs": [],
   "source": [
    "Xrange = np.arange(np.amin(X),np.amax(X),0.01)\n",
    "myX = np.ones((Xrange.shape[0],21), dtype=np.float)\n",
    "for i in range(21):\n",
    "    myX[:,i] =  np.power(Xrange, 20-i).ravel()\n",
    "YNew = np.dot(myX,W)"
   ]
  },
  {
   "cell_type": "markdown",
   "metadata": {},
   "source": [
    "### Computing MSE"
   ]
  },
  {
   "cell_type": "code",
   "execution_count": 116,
   "metadata": {},
   "outputs": [
    {
     "name": "stdout",
     "output_type": "stream",
     "text": [
      "[[ 6.47476625]]\n",
      "[[ 1420.17935747]]\n"
     ]
    }
   ],
   "source": [
    "MSEtrain      = np.dot((Y-Yestimated).T, (Y-Yestimated))/Y.shape[0]\n",
    "MSEvalidation = np.dot((Yv-YestimatedV).T, (Yv-YestimatedV))/Yv.shape[0]\n",
    "print MSEtrain\n",
    "print MSEvalidation"
   ]
  },
  {
   "cell_type": "code",
   "execution_count": 117,
   "metadata": {},
   "outputs": [
    {
     "data": {
      "image/png": "[encoded data removed]",
      "text/plain": [
       "<matplotlib.figure.Figure at 0x7fd1e34b5390>"
      ]
     },
     "metadata": {},
     "output_type": "display_data"
    }
   ],
   "source": [
    "plt.plot(Xrange, YNew,color='orange',label='Our Fitting Line')\n",
    "\n",
    "plt.show()"
   ]
  },
  {
   "cell_type": "markdown",
   "metadata": {},
   "source": [
    "# Ridge"
   ]
  },
  {
   "cell_type": "code",
   "execution_count": 153,
   "metadata": {},
   "outputs": [
    {
     "name": "stdout",
     "output_type": "stream",
     "text": [
      "[ 0.    0.05  0.1   0.15  0.2   0.25  0.3   0.35  0.4   0.45  0.5   0.55\n",
      "  0.6   0.65  0.7   0.75  0.8   0.85  0.9   0.95]\n",
      "MSEtrainRidge is\n",
      "[ 6.47476625  8.93769149  8.99721275  9.02705417  9.04593155  9.05975922\n",
      "  9.07098786  9.08081431  9.08989103  9.0986026   9.10718914  9.11580723\n",
      "  9.12456237  9.13352738  9.14275344  9.15227692  9.16212375  9.17231241\n",
      "  9.18285592  9.19376321]\n",
      "\n",
      "MSEvalidationRidge\n",
      "[ 1420.17935747     9.19337439     9.29160515     9.35414911     9.39703715\n",
      "     9.42913141     9.45492204     9.47686213     9.49638992     9.51439805\n",
      "     9.53146623     9.54798498     9.56422531     9.58037986     9.59658836\n",
      "     9.61295371     9.62955274     9.64644331     9.6636693      9.68126412]\n",
      "\n"
     ]
    }
   ],
   "source": [
    "steps = 20\n",
    "Lamda = np.arange(0,1,1.0/steps)\n",
    "Wridge = np.zeros((steps,21), dtype=float)\n",
    "YRidge = np.zeros((steps,50), dtype=float)\n",
    "YRidgeV = np.zeros((steps,50), dtype=float)\n",
    "\n",
    "MSEtrainRidge      = np.zeros((steps,), dtype=float)\n",
    "MSEvalidationRidge = np.zeros((steps,), dtype=float)\n",
    "\n",
    "print Lamda\n",
    "for i in range(steps):\n",
    "    W1 = inv(np.dot(X.T,X)+np.dot(Lamda[i],np.identity(21)))\n",
    "    W2 = np.dot(X.T,Y)\n",
    "    Wridge[i,:]  = np.dot(W1,W2).ravel()\n",
    "    YRidge[i,:]  = np.dot(X,Wridge[i])\n",
    "    YRidgeV[i,:] = np.dot(Xv,Wridge[i])\n",
    "    MSEtrainRidge[i] = np.dot((Y-YRidge[i:i+1,:].T).T, (Y-YRidge[i:i+1,:].T)).ravel()\n",
    "    MSEvalidationRidge[i] = np.dot((Yv-YRidgeV[i:i+1,:].T).T, (Yv-YRidgeV[i:i+1,:].T)).ravel()\n",
    "\n",
    "\n",
    "MSEtrainRidge      = MSEtrainRidge/Y.shape[0];\n",
    "MSEvalidationRidge = MSEvalidationRidge/Yv.shape[0]\n",
    "\n",
    "print \"MSEtrainRidge is\"\n",
    "print MSEtrainRidge\n",
    "print\n",
    "\n",
    "print \"MSEvalidationRidge\"\n",
    "print MSEvalidationRidge\n",
    "print \n",
    "\n"
   ]
  },
  {
   "cell_type": "code",
   "execution_count": 150,
   "metadata": {},
   "outputs": [
    {
     "data": {
      "image/png": "[encoded data removed]",
      "text/plain": [
       "<matplotlib.figure.Figure at 0x7fd1e19a8350>"
      ]
     },
     "metadata": {},
     "output_type": "display_data"
    }
   ],
   "source": [
    "fig = plt.figure(figsize=(10,6))\n",
    "ax = fig.add_subplot(111)\n",
    "ax.set_title('Training and Validation MSE')\n",
    "plt.plot(Lamda,MSEtrainRidge,      label=\"Train Ridge\"     )\n",
    "plt.plot(Lamda,MSEvalidationRidge, label=\"Validation Ridge\")\n",
    "ax.set_xlabel('Data')\n",
    "ax.set_ylabel('Target')\n",
    "ax.legend(loc='best')\n",
    "plt.show()"
   ]
  },
  {
   "cell_type": "markdown",
   "metadata": {},
   "source": [
    "## Finding and plotting best fitting line based on argmin of MSEValidatoin"
   ]
  },
  {
   "cell_type": "code",
   "execution_count": 157,
   "metadata": {},
   "outputs": [
    {
     "name": "stdout",
     "output_type": "stream",
     "text": [
      "bestFit index is 1\n",
      "lamda is 0.05\n"
     ]
    }
   ],
   "source": [
    "bestFit = np.argmin(MSEvalidationRidge)\n",
    "YNew = np.dot(myX,Wridge[bestFit])\n",
    "print \"bestFit index is %d\"%bestFit\n",
    "print \"lamda is %.2f\"%Lamda[bestFit]"
   ]
  },
  {
   "cell_type": "code",
   "execution_count": 170,
   "metadata": {},
   "outputs": [
    {
     "name": "stdout",
     "output_type": "stream",
     "text": [
      "(50, 1)\n",
      "(50, 1)\n",
      "[[ 10.61364362]]\n"
     ]
    }
   ],
   "source": [
    "myXt = np.ones((Xt.shape[0],21), dtype=np.float)\n",
    "for i in range(21):\n",
    "    myXt[:,i] =  np.power(Xt, 20-i).ravel()\n",
    "Ytest = np.dot(myXt,Wridge[bestFit]).reshape(50,1)\n",
    "MSEtest = np.dot((Yt-Ytest).T, (Yt-Ytest))/Yt.shape[0]\n",
    "print MSEtest"
   ]
  },
  {
   "cell_type": "code",
   "execution_count": 158,
   "metadata": {},
   "outputs": [
    {
     "data": {
      "image/png": "[encoded data removed]",
      "text/plain": [
       "<matplotlib.figure.Figure at 0x7fd1e17b1650>"
      ]
     },
     "metadata": {},
     "output_type": "display_data"
    }
   ],
   "source": [
    "fig = plt.figure(figsize=(10,5))\n",
    "ax = fig.add_subplot(111)\n",
    "ax.set_title('Data and fitting line')\n",
    "ax.scatter(train[:,0:1],train[:,1:2],label='Training Data',color='pink')\n",
    "ax.scatter(val[:,0:1],val[:,1:2],label='Validation Data',color='green')\n",
    "plt.plot(Xrange, YNew,color='orange',label='Best Fitting Line')\n",
    "ax.set_xlabel('Data')\n",
    "ax.set_ylabel('Target')\n",
    "ax.legend(loc='best');\n",
    "plt.show()"
   ]
  },
  {
   "cell_type": "code",
   "execution_count": null,
   "metadata": {
    "collapsed": true
   },
   "outputs": [],
   "source": []
  }
 ],
 "metadata": {
  "kernelspec": {
   "display_name": "Python 2",
   "language": "python",
   "name": "python2"
  },
  "language_info": {
   "codemirror_mode": {
    "name": "ipython",
    "version": 2
   },
   "file_extension": ".py",
   "mimetype": "text/x-python",
   "name": "python",
   "nbconvert_exporter": "python",
   "pygments_lexer": "ipython2",
   "version": "2.7.14"
  }
 },
 "nbformat": 4,
 "nbformat_minor": 2
}
