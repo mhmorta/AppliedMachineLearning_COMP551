{
  "nbformat": 4,
  "nbformat_minor": 0,
  "metadata": {
    "colab": {
      "name": "cnn.ipynb",
      "version": "0.3.2",
      "views": {},
      "default_view": {},
      "provenance": [],
      "collapsed_sections": []
    },
    "kernelspec": {
      "name": "python3",
      "display_name": "Python 3"
    },
    "accelerator": "GPU"
  },
  "cells": [
    {
      "metadata": {
        "id": "gfGrJ7dPBedb",
        "colab_type": "code",
        "colab": {
          "autoexec": {
            "startup": false,
            "wait_interval": 0
          },
          "output_extras": [
            {
              "item_id": 2
            }
          ],
          "base_uri": "https://localhost:8080/",
          "height": 190
        },
        "outputId": "b9baa384-a547-4011-e71e-3c274fd1568b",
        "executionInfo": {
          "status": "ok",
          "timestamp": 1521676158801,
          "user_tz": 240,
          "elapsed": 3354,
          "user": {
            "displayName": "Philippe Min",
            "photoUrl": "https://lh3.googleusercontent.com/a/default-user=s128",
            "userId": "112321375441378952931"
          }
        }
      },
      "cell_type": "code",
      "source": [
        "!pip3 install http://download.pytorch.org/whl/cu80/torch-0.3.0.post4-cp36-cp36m-linux_x86_64.whl \n",
        "!pip3 install torchvision"
      ],
      "execution_count": 4,
      "outputs": [
        {
          "output_type": "stream",
          "text": [
            "Requirement already satisfied: torch==0.3.0.post4 from http://download.pytorch.org/whl/cu80/torch-0.3.0.post4-cp36-cp36m-linux_x86_64.whl in /usr/local/lib/python3.6/dist-packages\r\n",
            "Requirement already satisfied: numpy in /usr/local/lib/python3.6/dist-packages (from torch==0.3.0.post4)\r\n",
            "Requirement already satisfied: pyyaml in /usr/local/lib/python3.6/dist-packages (from torch==0.3.0.post4)\n",
            "Requirement already satisfied: torchvision in /usr/local/lib/python3.6/dist-packages\n",
            "Requirement already satisfied: pillow>=4.1.1 in /usr/local/lib/python3.6/dist-packages (from torchvision)\n",
            "Requirement already satisfied: numpy in /usr/local/lib/python3.6/dist-packages (from torchvision)\n",
            "Requirement already satisfied: six in /usr/local/lib/python3.6/dist-packages (from torchvision)\n",
            "Requirement already satisfied: torch in /usr/local/lib/python3.6/dist-packages (from torchvision)\n",
            "Requirement already satisfied: pyyaml in /usr/local/lib/python3.6/dist-packages (from torch->torchvision)\n"
          ],
          "name": "stdout"
        }
      ]
    },
    {
      "metadata": {
        "id": "rG28lRuDBga-",
        "colab_type": "code",
        "colab": {
          "autoexec": {
            "startup": false,
            "wait_interval": 0
          },
          "output_extras": [
            {
              "item_id": 1
            }
          ],
          "base_uri": "https://localhost:8080/",
          "height": 34
        },
        "outputId": "560633b4-9d42-4200-c22a-d1842aa429e9",
        "executionInfo": {
          "status": "ok",
          "timestamp": 1521676170817,
          "user_tz": 240,
          "elapsed": 7193,
          "user": {
            "displayName": "Philippe Min",
            "photoUrl": "https://lh3.googleusercontent.com/a/default-user=s128",
            "userId": "112321375441378952931"
          }
        }
      },
      "cell_type": "code",
      "source": [
        "import numpy as np\n",
        "\n",
        "import pandas as pd \n",
        "\n",
        "import scipy.misc      \n",
        "\n",
        "from sklearn.model_selection import train_test_split\n",
        "\n",
        "import time\n",
        "\n",
        "import torch\n",
        "import torch.nn as nn\n",
        "import torch.nn.functional as F\n",
        "import torch.optim as optim\n",
        "from torch.autograd import Variable\n",
        "import torch.utils.data as Data\n",
        "\n",
        "import matplotlib.pyplot as plt\n",
        "%matplotlib inline\n",
        "\n",
        "from google.colab import files\n",
        "\n",
        "print(\"import complete\")"
      ],
      "execution_count": 5,
      "outputs": [
        {
          "output_type": "stream",
          "text": [
            "import complete\n"
          ],
          "name": "stdout"
        }
      ]
    },
    {
      "metadata": {
        "id": "CkwO3xlLBsUS",
        "colab_type": "code",
        "colab": {
          "autoexec": {
            "startup": false,
            "wait_interval": 0
          },
          "output_extras": [
            {
              "item_id": 1
            }
          ],
          "base_uri": "https://localhost:8080/",
          "height": 34
        },
        "outputId": "d0e890db-5329-4c2a-f68b-ab948d3ed348",
        "executionInfo": {
          "status": "ok",
          "timestamp": 1521676617774,
          "user_tz": 240,
          "elapsed": 418865,
          "user": {
            "displayName": "Philippe Min",
            "photoUrl": "https://lh3.googleusercontent.com/a/default-user=s128",
            "userId": "112321375441378952931"
          }
        }
      },
      "cell_type": "code",
      "source": [
        "URL_ENDPOINT = \"http://cs.mcgill.ca/~ksinha4/datasets/kaggle/\"\n",
        "\n",
        "x_train_raw = np.loadtxt(URL_ENDPOINT+\"train_x.csv\", delimiter=\",\")\n",
        "y_train_raw = np.loadtxt(URL_ENDPOINT+\"train_y.csv\", delimiter=\",\")\n",
        "x_test_raw  = np.loadtxt(URL_ENDPOINT+\"test_x.csv\", delimiter=\",\")\n",
        "\n",
        "print(\"data load complete\")"
      ],
      "execution_count": 6,
      "outputs": [
        {
          "output_type": "stream",
          "text": [
            "data load complete\n"
          ],
          "name": "stdout"
        }
      ]
    },
    {
      "metadata": {
        "id": "Xti0G2QHZw8q",
        "colab_type": "code",
        "colab": {
          "autoexec": {
            "startup": false,
            "wait_interval": 0
          }
        }
      },
      "cell_type": "code",
      "source": [
        "USE_CUDA = True    # set to false to use CPU\n",
        "CUDA_AVAIL = torch.cuda.is_available()\n",
        "\n",
        "VALID_SPLIT = 0.2\n",
        "\n",
        "NUM_EPOCH = 50\n",
        "BATCH_SIZE = 25\n",
        "LEARN_RATE = 0.0001"
      ],
      "execution_count": 0,
      "outputs": []
    },
    {
      "metadata": {
        "id": "s46WMjTRZvvQ",
        "colab_type": "code",
        "colab": {
          "autoexec": {
            "startup": false,
            "wait_interval": 0
          },
          "output_extras": [
            {
              "item_id": 1
            }
          ],
          "base_uri": "https://localhost:8080/",
          "height": 34
        },
        "outputId": "2286439d-4f5f-4bd6-ec72-64ac5a249b12",
        "executionInfo": {
          "status": "ok",
          "timestamp": 1521676762197,
          "user_tz": 240,
          "elapsed": 2992,
          "user": {
            "displayName": "Philippe Min",
            "photoUrl": "https://lh3.googleusercontent.com/a/default-user=s128",
            "userId": "112321375441378952931"
          }
        }
      },
      "cell_type": "code",
      "source": [
        "# preprocessing and formatting\n",
        "x_train = np.floor(np.divide(x_train_raw, 255)).reshape(-1, 64, 64)\n",
        "y_train = y_train_raw.reshape(-1)\n",
        "x_test  = np.floor(np.divide(x_test_raw, 255)).reshape(-1, 64, 64)\n",
        "\n",
        "# training-validation split\n",
        "x_train, x_valid, y_train, y_valid = train_test_split(x_train, y_train, test_size=VALID_SPLIT)   \n",
        "\n",
        "x_train = torch.from_numpy(x_train).float().unsqueeze(1)\n",
        "y_train = torch.from_numpy(y_train).long()\n",
        "\n",
        "x_valid = torch.from_numpy(x_valid).float().unsqueeze(1)\n",
        "y_valid = torch.from_numpy(y_valid).long()\n",
        "\n",
        "x_test  = torch.from_numpy(x_test).float().unsqueeze(1)\n",
        "\n",
        "print(\"processing complete\")"
      ],
      "execution_count": 10,
      "outputs": [
        {
          "output_type": "stream",
          "text": [
            "processing complete\n"
          ],
          "name": "stdout"
        }
      ]
    },
    {
      "metadata": {
        "id": "v_dlZDIvGsNM",
        "colab_type": "code",
        "colab": {
          "autoexec": {
            "startup": false,
            "wait_interval": 0
          },
          "output_extras": [
            {
              "item_id": 1
            }
          ],
          "base_uri": "https://localhost:8080/",
          "height": 34
        },
        "outputId": "ff201124-7ba1-4e58-d9fa-a625a91d7629",
        "executionInfo": {
          "status": "ok",
          "timestamp": 1521676763172,
          "user_tz": 240,
          "elapsed": 274,
          "user": {
            "displayName": "Philippe Min",
            "photoUrl": "https://lh3.googleusercontent.com/a/default-user=s128",
            "userId": "112321375441378952931"
          }
        }
      },
      "cell_type": "code",
      "source": [
        "# create torch dataset and dataloader\n",
        "train_dataset = Data.TensorDataset(x_train, y_train)\n",
        "train_loader  = Data.DataLoader(train_dataset, batch_size=BATCH_SIZE, shuffle=True)\n",
        "\n",
        "valid_dataset = Data.TensorDataset(x_valid, y_valid)\n",
        "valid_loader  = Data.DataLoader(valid_dataset, batch_size=BATCH_SIZE, shuffle=True)\n",
        "\n",
        "test_loader   = Data.DataLoader(x_test, batch_size=BATCH_SIZE, shuffle=False)\n",
        "\n",
        "print(\"created dataset and dataloader\")"
      ],
      "execution_count": 11,
      "outputs": [
        {
          "output_type": "stream",
          "text": [
            "created dataset and dataloader\n"
          ],
          "name": "stdout"
        }
      ]
    },
    {
      "metadata": {
        "id": "7pi0TxAlBwfx",
        "colab_type": "code",
        "colab": {
          "autoexec": {
            "startup": false,
            "wait_interval": 0
          }
        }
      },
      "cell_type": "code",
      "source": [
        "class CNN(nn.Module):\n",
        "  def __init__(self):\n",
        "    super(CNN, self).__init__()\n",
        "    \n",
        "    self.conv1 = nn.Sequential(       # input shape (1, 64, 64)\n",
        "      nn.Conv2d(\n",
        "          in_channels=1,              # input height\n",
        "          out_channels=16,            # n_filters\n",
        "          kernel_size=5,              \n",
        "          stride=1,                   \n",
        "          padding=2,                  \n",
        "      ),                              # output shape (16, 64, 64)\n",
        "      nn.BatchNorm2d(16),\n",
        "      nn.ReLU(),                      # activation\n",
        "      nn.Conv2d(16, 16, 4, 1, 2),     # output shape (32, 32, 32)  \n",
        "      nn.BatchNorm2d(16),                           \n",
        "      nn.ReLU(),                    \n",
        "      nn.MaxPool2d(kernel_size=2),    # choose max value in 2x2 area, output shape (16, 32, 32)\n",
        "      nn.Dropout2d(0.20)              \n",
        "    )\n",
        "\n",
        "    self.conv2 = nn.Sequential(       # input shape (1, 64, 64)\n",
        "      nn.Conv2d(16, 32, 5, 1, 2),     # output shape (32, 32, 32)\n",
        "      nn.BatchNorm2d(32), \n",
        "      nn.ReLU(),                      # activation\n",
        "      nn.Conv2d(32, 32, 4, 1, 2),     # output shape (32, 32, 32)  \n",
        "      nn.BatchNorm2d(32),                          \n",
        "      nn.ReLU(),                   \n",
        "      nn.MaxPool2d(2),                # output shape (32, 16, 16)\n",
        "      nn.Dropout2d(0.30)              \n",
        "    )\n",
        "    \n",
        "    self.conv3 = nn.Sequential(       # input shape (1, 64, 64)\n",
        "      nn.Conv2d(32, 64, 5, 1, 2),     # output shape (64, 16, 16)\n",
        "      nn.BatchNorm2d(64), \n",
        "      nn.ReLU(),                      # activation   \n",
        "      nn.Conv2d(64, 64, 4, 1, 2),     # output shape (64, 16, 16)\n",
        "      nn.BatchNorm2d(64), \n",
        "      nn.ReLU(),\n",
        "      nn.MaxPool2d(2),                # output shape (64, 8, 8)\n",
        "      nn.Dropout2d(0.40)\n",
        "    )\n",
        "    \n",
        "    self.conv4 = nn.Sequential(       # input shape (1, 64, 64)\n",
        "      nn.Conv2d(64, 128, 5, 1, 2),     # output shape (128, 8, 8)\n",
        "      nn.BatchNorm2d(128), \n",
        "      nn.ReLU(),                      # activation   \n",
        "      nn.Conv2d(128, 128, 4, 1, 2),     # output shape (128, 8, 8)\n",
        "      nn.BatchNorm2d(128), \n",
        "      nn.ReLU(),\n",
        "      nn.MaxPool2d(2),                # output shape (128, 4, 4)\n",
        "      nn.Dropout2d(0.50)\n",
        "    )\n",
        "    \n",
        "    self.out = nn.Linear(128 * 4 * 4, 10)   # fully connected layer, output 10 classes\n",
        "\n",
        "  def forward(self, x):\n",
        "    x = self.conv1(x)\n",
        "    x = self.conv2(x)\n",
        "    x = self.conv3(x)\n",
        "    x = self.conv4(x)\n",
        "    x = x.view(x.size(0), -1)           # flatten the output of conv2 to (batch_size, 32 * 16 * 16)\n",
        "    output = self.out(x)\n",
        "    return output"
      ],
      "execution_count": 0,
      "outputs": []
    },
    {
      "metadata": {
        "id": "YIzhe_O_HRDK",
        "colab_type": "code",
        "colab": {
          "autoexec": {
            "startup": false,
            "wait_interval": 0
          },
          "output_extras": [
            {
              "item_id": 1
            }
          ],
          "base_uri": "https://localhost:8080/",
          "height": 34
        },
        "outputId": "36a1fa3d-5f90-4e2a-d55e-954ffffb89f2",
        "executionInfo": {
          "status": "ok",
          "timestamp": 1521676768319,
          "user_tz": 240,
          "elapsed": 3163,
          "user": {
            "displayName": "Philippe Min",
            "photoUrl": "https://lh3.googleusercontent.com/a/default-user=s128",
            "userId": "112321375441378952931"
          }
        }
      },
      "cell_type": "code",
      "source": [
        "cnn = CNN()\n",
        "\n",
        "if USE_CUDA and CUDA_AVAIL:\n",
        "  cnn.cuda()\n",
        "\n",
        "# Loss and Optimizer\n",
        "criterion = nn.CrossEntropyLoss()\n",
        "optimizer = optim.Adam(cnn.parameters(), lr=LEARN_RATE)\n",
        "\n",
        "print(\"created model, optimizer\")"
      ],
      "execution_count": 13,
      "outputs": [
        {
          "output_type": "stream",
          "text": [
            "created model, optimizer\n"
          ],
          "name": "stdout"
        }
      ]
    },
    {
      "metadata": {
        "id": "DkLta1M9Dnst",
        "colab_type": "code",
        "colab": {
          "autoexec": {
            "startup": false,
            "wait_interval": 0
          },
          "output_extras": [
            {
              "item_id": 1
            }
          ],
          "base_uri": "https://localhost:8080/",
          "height": 34
        },
        "outputId": "b2b53dd6-02f7-46d1-c33e-d0c659495bd0",
        "executionInfo": {
          "status": "ok",
          "timestamp": 1521680682829,
          "user_tz": 240,
          "elapsed": 3891640,
          "user": {
            "displayName": "Philippe Min",
            "photoUrl": "https://lh3.googleusercontent.com/a/default-user=s128",
            "userId": "112321375441378952931"
          }
        }
      },
      "cell_type": "code",
      "source": [
        "# train the model\n",
        "start_time = time.time()\n",
        "train_losses = []\n",
        "valid_losses = []\n",
        "train_acc = []\n",
        "valid_acc = []\n",
        "\n",
        "for epoch in range(NUM_EPOCH):\n",
        "  \n",
        "  for i, (images, labels) in enumerate(train_loader):\n",
        "    if USE_CUDA and CUDA_AVAIL:\n",
        "      images, labels = images.cuda(), labels.cuda()\n",
        "    images, labels = Variable(images), Variable(labels)\n",
        "      \n",
        "    # forward + backward + optimize\n",
        "    optimizer.zero_grad()\n",
        "    outputs = cnn(images)\n",
        "    loss = criterion(outputs, labels)\n",
        "    loss.backward()\n",
        "    optimizer.step()\n",
        "    \n",
        "    # at end of every epoch\n",
        "    if i == len(train_loader) - 1:\n",
        "      cnn.eval()\n",
        "      \n",
        "      # store training model loss\n",
        "      train_losses.append(loss.data[0])\n",
        "      \n",
        "      # store validation model loss\n",
        "      loader  = Data.DataLoader(valid_dataset, batch_size=BATCH_SIZE, shuffle=False)\n",
        "      \n",
        "      for j, (images, labels) in enumerate(loader):\n",
        "        if USE_CUDA and CUDA_AVAIL:\n",
        "          images, labels = images.cuda(), labels.cuda()\n",
        "        images, labels = Variable(images, volatile=True), Variable(labels, volatile=True)\n",
        "\n",
        "        outputs = cnn(images)\n",
        "        valid_loss = criterion(outputs, labels)\n",
        "        \n",
        "        if j == len(loader) - 1:\n",
        "          valid_losses.append(valid_loss.data[0])\n",
        "      \n",
        "      # store accuracy on training set\n",
        "      correct = 0\n",
        "      total = 0\n",
        "      \n",
        "      loader  = Data.DataLoader(train_dataset, batch_size=BATCH_SIZE, shuffle=False)\n",
        "      \n",
        "      for j, (images, labels) in enumerate(loader):\n",
        "        if USE_CUDA and CUDA_AVAIL:\n",
        "          images = images.cuda()\n",
        "        images = Variable(images, volatile=True)\n",
        "\n",
        "        outputs = cnn(images)\n",
        "        _, predicted = torch.max(outputs.data, 1)\n",
        "        total += labels.size(0)\n",
        "        correct += (predicted.cpu() == labels).sum()\n",
        "        \n",
        "      train_acc.append(100 * correct / total)\n",
        "      \n",
        "      # store accuracy on validation set\n",
        "      loader  = Data.DataLoader(valid_dataset, batch_size=BATCH_SIZE, shuffle=False)\n",
        "        \n",
        "      for j, (images, labels) in enumerate(loader):\n",
        "        if USE_CUDA and CUDA_AVAIL:\n",
        "          images = images.cuda()\n",
        "        images = Variable(images, volatile=True)\n",
        "\n",
        "        outputs = cnn(images)\n",
        "        _, predicted = torch.max(outputs.data, 1)\n",
        "        total += labels.size(0)\n",
        "        correct += (predicted.cpu() == labels).sum()\n",
        "        \n",
        "      valid_acc.append(100 * correct / total)\n",
        "\n",
        "      cnn.train()\n",
        "      \n",
        "print(\"Model trained in --- %s seconds ---\" % (time.time() - start_time))"
      ],
      "execution_count": 14,
      "outputs": [
        {
          "output_type": "stream",
          "text": [
            "Model trained in --- 3891.074508190155 seconds ---\n"
          ],
          "name": "stdout"
        }
      ]
    },
    {
      "metadata": {
        "id": "ok-EI1V6rjVA",
        "colab_type": "code",
        "colab": {
          "autoexec": {
            "startup": false,
            "wait_interval": 0
          },
          "output_extras": [
            {
              "item_id": 1
            }
          ],
          "base_uri": "https://localhost:8080/",
          "height": 294
        },
        "outputId": "08bc3d29-f546-40e5-e2d8-ffa3a3a080d6",
        "executionInfo": {
          "status": "ok",
          "timestamp": 1521680776229,
          "user_tz": 240,
          "elapsed": 457,
          "user": {
            "displayName": "Philippe Min",
            "photoUrl": "https://lh3.googleusercontent.com/a/default-user=s128",
            "userId": "112321375441378952931"
          }
        }
      },
      "cell_type": "code",
      "source": [
        "# plot and download model loss\n",
        "plt.plot(train_losses, 'b')\n",
        "plt.plot(valid_losses, 'orange')\n",
        "# plt.ylim(0, 1)\n",
        "plt.title('CNN Model Loss Over Epoch')\n",
        "plt.xlabel('Epoch')\n",
        "plt.ylabel('Loss')\n",
        "plt.legend(['training', 'validation'])\n",
        "plt.show()\n",
        "# plt.savefig('cnnModelLoss.png')\n",
        "# files.download('cnnModelLoss.png')"
      ],
      "execution_count": 21,
      "outputs": [
        {
          "output_type": "display_data",
          "data": {
            "image/png": "[encoded data removed]",
            "text/plain": [
              "<matplotlib.figure.Figure at 0x7ff807b376d8>"
            ]
          },
          "metadata": {
            "tags": []
          }
        }
      ]
    },
    {
      "metadata": {
        "id": "lohd4Ici5nCO",
        "colab_type": "code",
        "colab": {
          "autoexec": {
            "startup": false,
            "wait_interval": 0
          },
          "output_extras": [
            {
              "item_id": 1
            }
          ],
          "base_uri": "https://localhost:8080/",
          "height": 294
        },
        "outputId": "d9e22850-6b74-4579-e698-9eca97df276a",
        "executionInfo": {
          "status": "ok",
          "timestamp": 1521680780562,
          "user_tz": 240,
          "elapsed": 311,
          "user": {
            "displayName": "Philippe Min",
            "photoUrl": "https://lh3.googleusercontent.com/a/default-user=s128",
            "userId": "112321375441378952931"
          }
        }
      },
      "cell_type": "code",
      "source": [
        "# plot and download model accuracy\n",
        "plt.plot(train_acc, 'b')\n",
        "plt.plot(valid_acc, 'orange')\n",
        "plt.ylim(90, 100)\n",
        "plt.title('CNN Model Accuracy Over Epoch')\n",
        "plt.xlabel('Epoch')\n",
        "plt.ylabel('Accuracy (%)')\n",
        "plt.legend(['training', 'validation'])\n",
        "plt.show()\n",
        "# plt.savefig('cnnModelAccuracy.png')\n",
        "# files.download('cnnModelAccuracy.png')"
      ],
      "execution_count": 22,
      "outputs": [
        {
          "output_type": "display_data",
          "data": {
            "image/png": "[encoded data removed]",
            "text/plain": [
              "<matplotlib.figure.Figure at 0x7ff80667c320>"
            ]
          },
          "metadata": {
            "tags": []
          }
        }
      ]
    },
    {
      "metadata": {
        "id": "JSDg1DogLf3C",
        "colab_type": "code",
        "colab": {
          "autoexec": {
            "startup": false,
            "wait_interval": 0
          },
          "output_extras": [
            {
              "item_id": 1
            }
          ],
          "base_uri": "https://localhost:8080/",
          "height": 34
        },
        "outputId": "53ecb394-1cb7-45ad-9e59-cd03830b0739",
        "executionInfo": {
          "status": "ok",
          "timestamp": 1521680788174,
          "user_tz": 240,
          "elapsed": 4895,
          "user": {
            "displayName": "Philippe Min",
            "photoUrl": "https://lh3.googleusercontent.com/a/default-user=s128",
            "userId": "112321375441378952931"
          }
        }
      },
      "cell_type": "code",
      "source": [
        "# get accuracy on validation set\n",
        "cnn.eval()\n",
        "\n",
        "correct = 0\n",
        "total = 0\n",
        "\n",
        "for i, (images, labels) in enumerate(valid_loader):\n",
        "  if USE_CUDA and CUDA_AVAIL:\n",
        "    images = images.cuda()\n",
        "  images = Variable(images)\n",
        " \n",
        "  outputs = cnn(images)\n",
        "  _, predicted = torch.max(outputs.data, 1)\n",
        "  total += labels.size(0)\n",
        "  correct += (predicted.cpu() == labels).sum()\n",
        "\n",
        "print('Accuracy of the model on validation set: %d %%' % (100 * correct / total))"
      ],
      "execution_count": 23,
      "outputs": [
        {
          "output_type": "stream",
          "text": [
            "Accuracy of the model on validation set: 96 %\n"
          ],
          "name": "stdout"
        }
      ]
    },
    {
      "metadata": {
        "id": "nglLONqNjd4Y",
        "colab_type": "code",
        "colab": {
          "autoexec": {
            "startup": false,
            "wait_interval": 0
          },
          "output_extras": [
            {
              "item_id": 1
            }
          ],
          "base_uri": "https://localhost:8080/",
          "height": 34
        },
        "outputId": "f338e39c-22f2-4b87-f20d-b9b684e3c720",
        "executionInfo": {
          "status": "ok",
          "timestamp": 1521680794831,
          "user_tz": 240,
          "elapsed": 4787,
          "user": {
            "displayName": "Philippe Min",
            "photoUrl": "https://lh3.googleusercontent.com/a/default-user=s128",
            "userId": "112321375441378952931"
          }
        }
      },
      "cell_type": "code",
      "source": [
        "# predict test data\n",
        "cnn.eval()\n",
        "\n",
        "predictions = []\n",
        "\n",
        "for i, images in enumerate(test_loader):\n",
        "  if USE_CUDA and CUDA_AVAIL:\n",
        "    images = images.cuda()\n",
        "  images = Variable(images)\n",
        "  \n",
        "  outputs = cnn(images)\n",
        "  y_pred_batch = torch.max(outputs.cpu(), 1)[1].data.numpy().squeeze()\n",
        "\n",
        "  predictions.append(y_pred_batch)\n",
        "  \n",
        "predictions = pd.DataFrame([item for sublist in predictions for item in sublist])\n",
        "\n",
        "print(\"predictions complete\")"
      ],
      "execution_count": 24,
      "outputs": [
        {
          "output_type": "stream",
          "text": [
            "predictions complete\n"
          ],
          "name": "stdout"
        }
      ]
    },
    {
      "metadata": {
        "id": "_icctN919TaX",
        "colab_type": "code",
        "colab": {
          "autoexec": {
            "startup": false,
            "wait_interval": 0
          },
          "output_extras": [
            {
              "item_id": 1
            }
          ],
          "base_uri": "https://localhost:8080/",
          "height": 34
        },
        "outputId": "1f3f36a3-3aca-45c3-928c-94c7ed512de9",
        "executionInfo": {
          "status": "ok",
          "timestamp": 1521680796416,
          "user_tz": 240,
          "elapsed": 806,
          "user": {
            "displayName": "Philippe Min",
            "photoUrl": "https://lh3.googleusercontent.com/a/default-user=s128",
            "userId": "112321375441378952931"
          }
        }
      },
      "cell_type": "code",
      "source": [
        "# create and download .csv file (formatted for Kaggle submission) for predictions on test data\n",
        "predictions.to_csv(\"cnn_pred.csv\", index_label='Id', header=['Label'])\n",
        "files.download(\"cnn_pred.csv\")\n",
        "\n",
        "print(\"download complete\")"
      ],
      "execution_count": 25,
      "outputs": [
        {
          "output_type": "stream",
          "text": [
            "download complete\n"
          ],
          "name": "stdout"
        }
      ]
    },
    {
      "metadata": {
        "id": "dJXwTspOd8Sn",
        "colab_type": "code",
        "colab": {
          "autoexec": {
            "startup": false,
            "wait_interval": 0
          }
        }
      },
      "cell_type": "code",
      "source": [
        ""
      ],
      "execution_count": 0,
      "outputs": []
    }
  ]
}