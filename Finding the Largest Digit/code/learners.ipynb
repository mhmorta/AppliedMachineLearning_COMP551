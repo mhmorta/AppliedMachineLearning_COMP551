{
 "cells": [
  {
   "cell_type": "code",
   "execution_count": 1,
   "metadata": {},
   "outputs": [],
   "source": [
    "import numpy as np\n",
    "import matplotlib.pyplot as plt\n",
    "from matplotlib.legend_handler import HandlerLine2D\n",
    "from numpy.linalg import inv\n",
    "from collections import OrderedDict\n",
    "from operator import itemgetter\n",
    "import string\n",
    "from sklearn.naive_bayes import BernoulliNB\n",
    "from sklearn.metrics import f1_score\n",
    "from sklearn import tree\n",
    "from sklearn.svm import LinearSVC\n",
    "from sklearn.model_selection import GridSearchCV\n",
    "from sklearn.model_selection import PredefinedSplit\n",
    "from sklearn.naive_bayes import GaussianNB\n",
    "from sklearn.tree import DecisionTreeClassifier\n",
    "from sklearn.neighbors import KNeighborsClassifier\n",
    "from sklearn.ensemble import RandomForestClassifier\n",
    "from sklearn.ensemble import BaggingClassifier\n",
    "from sklearn.ensemble import AdaBoostClassifier\n",
    "import time\n",
    "import cv2 \n",
    "import cv2 as cv"
   ]
  },
  {
   "cell_type": "code",
   "execution_count": 2,
   "metadata": {},
   "outputs": [
    {
     "name": "stdout",
     "output_type": "stream",
     "text": [
      "start...\n",
      "Loaded data in --- 58.8411669731 seconds ---\n"
     ]
    }
   ],
   "source": [
    "def loadDataFinal():\n",
    "    start_time = time.time()\n",
    "    print 'start...'\n",
    "    x = np.loadtxt(\"xP_BB.txt\", delimiter=\",\") # load from text \n",
    "    y = np.loadtxt(\"train_y.csv\", delimiter=\",\") \n",
    "    xTest = np.loadtxt(\"xPTest_BB.txt\", delimiter=\",\")\n",
    "    x = x.reshape(-1, 32, 32) # reshape \n",
    "    xTest = xTest.reshape(-1, 32, 32)\n",
    "    y = y.reshape(-1, 1) \n",
    "    print(\"Loaded data in --- %s seconds ---\" % (time.time() - start_time))\n",
    "    return [x,y,xTest]\n",
    "x,y,xTest = loadDataFinal()"
   ]
  },
  {
   "cell_type": "code",
   "execution_count": 3,
   "metadata": {},
   "outputs": [
    {
     "name": "stdout",
     "output_type": "stream",
     "text": [
      "(50000, 1)\n",
      "(50000, 32, 32)\n",
      "(10000, 32, 32)\n"
     ]
    }
   ],
   "source": [
    "x     = x.astype(np.uint8);\n",
    "xTest = xTest.astype(np.uint8);\n",
    "print y.shape\n",
    "print x.shape\n",
    "print xTest.shape"
   ]
  },
  {
   "cell_type": "markdown",
   "metadata": {},
   "source": [
    "## Observations with SVM"
   ]
  },
  {
   "cell_type": "code",
   "execution_count": 16,
   "metadata": {},
   "outputs": [],
   "source": [
    "def testSVM(x,y,xTest, param_grid):\n",
    "    start_time = time.time()\n",
    "\n",
    "    print 'Started...'\n",
    "        clf = LinearSVC();\n",
    "    tree = GridSearchCV(clf ,param_grid,n_jobs=-1, refit=True , verbose= 1)\n",
    "    tree.fit(x,y)\n",
    "    tree_preds = tree.best_estimator_;\n",
    "    result = tree_preds.predict(xTest);\n",
    "    return [tree, result]\n",
    "    print(\"--- %s seconds ---\" % (time.time() - start_time))"
   ]
  },
  {
   "cell_type": "code",
   "execution_count": 19,
   "metadata": {},
   "outputs": [
    {
     "name": "stdout",
     "output_type": "stream",
     "text": [
      "Started...\n",
      "Fitting 3 folds for each of 3 candidates, totalling 9 fits\n"
     ]
    },
    {
     "name": "stderr",
     "output_type": "stream",
     "text": [
      "[Parallel(n_jobs=-1)]: Done   9 out of   9 | elapsed:   23.5s finished\n"
     ]
    },
    {
     "name": "stdout",
     "output_type": "stream",
     "text": [
      "0.6018\n",
      "{'C': 1e-05}\n"
     ]
    }
   ],
   "source": [
    "size = 50000\n",
    "param_grid = {'C':[0.00001,0.0001,0.001]\n",
    "         }\n",
    "svm1,svmr1 = testSVM(x.reshape(-1,1024)[:size], y.ravel()[:size], xTest.reshape(-1,1024)[:size],param_grid);\n",
    "print svm1.best_score_\n",
    "print svm1.best_params_"
   ]
  },
  {
   "cell_type": "code",
   "execution_count": 24,
   "metadata": {},
   "outputs": [
    {
     "name": "stdout",
     "output_type": "stream",
     "text": [
      "Started...\n",
      "Fitting 3 folds for each of 3 candidates, totalling 9 fits\n"
     ]
    },
    {
     "name": "stderr",
     "output_type": "stream",
     "text": [
      "[Parallel(n_jobs=-1)]: Done   9 out of   9 | elapsed: 14.7min finished\n"
     ]
    },
    {
     "name": "stdout",
     "output_type": "stream",
     "text": [
      "0.54764\n",
      "{'C': 1}\n"
     ]
    }
   ],
   "source": [
    "size = 50000\n",
    "param_grid = {'C':[1,50,100]\n",
    "         }\n",
    "svm1,svmr1 = testSVM(x.reshape(-1,1024)[:size], y.ravel()[:size], xTest.reshape(-1,1024)[:size],param_grid);\n",
    "print svm1.best_score_\n",
    "print svm1.best_params_"
   ]
  },
  {
   "cell_type": "code",
   "execution_count": 23,
   "metadata": {},
   "outputs": [
    {
     "name": "stdout",
     "output_type": "stream",
     "text": [
      "Started...\n",
      "Fitting 3 folds for each of 3 candidates, totalling 9 fits\n"
     ]
    },
    {
     "name": "stderr",
     "output_type": "stream",
     "text": [
      "[Parallel(n_jobs=-1)]: Done   9 out of   9 | elapsed: 13.1min finished\n"
     ]
    },
    {
     "name": "stdout",
     "output_type": "stream",
     "text": [
      "0.73242\n",
      "{'penalty': 'l2', 'C': 1e-05}\n"
     ]
    }
   ],
   "source": [
    "size = 50000\n",
    "param_grid = {'C':[0.00001,0.0001,0.001]\n",
    "              ,'penalty': ['l2']\n",
    "\n",
    "         }\n",
    "svm1,svmr1 = testSVM(x.reshape(-1,1024)[:size], y.ravel()[:size], xTest.reshape(-1,1024)[:size],param_grid);\n",
    "print svm1.best_score_\n",
    "print svm1.best_params_"
   ]
  },
  {
   "cell_type": "markdown",
   "metadata": {},
   "source": [
    "### Effect of size of Dataset"
   ]
  },
  {
   "cell_type": "code",
   "execution_count": 5,
   "metadata": {},
   "outputs": [
    {
     "name": "stdout",
     "output_type": "stream",
     "text": [
      "Fitting 3 folds for each of 6 candidates, totalling 18 fits\n",
      "--- 1.23333191872 seconds ---\n",
      "0.54\n",
      "{'C': 1e-05, 'random_state': 0}\n"
     ]
    },
    {
     "name": "stderr",
     "output_type": "stream",
     "text": [
      "[Parallel(n_jobs=-1)]: Done  18 out of  18 | elapsed:    0.8s finished\n"
     ]
    }
   ],
   "source": [
    "size = 100\n",
    "clf, result = testSVM(x.reshape(-1,1024)[:size], y.ravel()[:size], xTest.reshape(-1,1024)[:size]);\n",
    "print clf.best_score_\n",
    "print clf.best_params_"
   ]
  },
  {
   "cell_type": "code",
   "execution_count": 6,
   "metadata": {},
   "outputs": [
    {
     "name": "stdout",
     "output_type": "stream",
     "text": [
      "Fitting 3 folds for each of 6 candidates, totalling 18 fits\n"
     ]
    },
    {
     "name": "stderr",
     "output_type": "stream",
     "text": [
      "[Parallel(n_jobs=-1)]: Done  18 out of  18 | elapsed:    4.8s finished\n"
     ]
    },
    {
     "name": "stdout",
     "output_type": "stream",
     "text": [
      "--- 6.26605987549 seconds ---\n",
      "0.625\n",
      "{'C': 1e-05, 'random_state': 0}\n"
     ]
    }
   ],
   "source": [
    "size = 1000\n",
    "clf, result = testSVM(x.reshape(-1,1024)[:size], y.ravel()[:size], xTest.reshape(-1,1024)[:size]);\n",
    "print clf.best_score_\n",
    "print clf.best_params_"
   ]
  },
  {
   "cell_type": "code",
   "execution_count": 7,
   "metadata": {},
   "outputs": [
    {
     "name": "stdout",
     "output_type": "stream",
     "text": [
      "Fitting 3 folds for each of 6 candidates, totalling 18 fits\n"
     ]
    },
    {
     "name": "stderr",
     "output_type": "stream",
     "text": [
      "[Parallel(n_jobs=-1)]: Done  18 out of  18 | elapsed:  2.4min finished\n"
     ]
    },
    {
     "name": "stdout",
     "output_type": "stream",
     "text": [
      "--- 171.61596489 seconds ---\n",
      "0.6464\n",
      "{'C': 1e-05, 'random_state': 0}\n"
     ]
    }
   ],
   "source": [
    "size = 10000\n",
    "clf, result = testSVM(x.reshape(-1,1024)[:size], y.ravel()[:size], xTest.reshape(-1,1024)[:size]);\n",
    "print clf.best_score_\n",
    "print clf.best_params_"
   ]
  },
  {
   "cell_type": "code",
   "execution_count": 8,
   "metadata": {},
   "outputs": [
    {
     "name": "stdout",
     "output_type": "stream",
     "text": [
      "Fitting 3 folds for each of 6 candidates, totalling 18 fits\n"
     ]
    },
    {
     "name": "stderr",
     "output_type": "stream",
     "text": [
      "[Parallel(n_jobs=-1)]: Done  18 out of  18 | elapsed: 23.1min finished\n"
     ]
    },
    {
     "name": "stdout",
     "output_type": "stream",
     "text": [
      "--- 1649.76570582 seconds ---\n",
      "0.73266\n",
      "{'C': 1e-05, 'random_state': 0}\n"
     ]
    }
   ],
   "source": [
    "size = x.shape[0]\n",
    "clf, result = testSVM(x.reshape(-1,1024)[:size], y.ravel()[:size], xTest.reshape(-1,1024)[:size]);\n",
    "print clf.best_score_\n",
    "print clf.best_params_"
   ]
  },
  {
   "cell_type": "code",
   "execution_count": 9,
   "metadata": {},
   "outputs": [
    {
     "name": "stdout",
     "output_type": "stream",
     "text": [
      "0.73266\n",
      "{'C': 1e-05, 'random_state': 0}\n"
     ]
    }
   ],
   "source": [
    "print clf.best_score_\n",
    "print clf.best_params_"
   ]
  },
  {
   "cell_type": "code",
   "execution_count": 10,
   "metadata": {},
   "outputs": [],
   "source": [
    "def generateSubmittionFile(result):\n",
    "    file = open(\"submittion.txt\",\"w\") \n",
    "    file.write(\"Id,Label\\n\")\n",
    "    for i in range(len(result)):\n",
    "        text = str(i) +','+ str(int(result[i])) + '\\n'\n",
    "        file.write(text)\n",
    "    print 'Done...'\n",
    "\n"
   ]
  },
  {
   "cell_type": "markdown",
   "metadata": {},
   "source": [
    "# Test DecisoinTree"
   ]
  },
  {
   "cell_type": "code",
   "execution_count": 11,
   "metadata": {},
   "outputs": [],
   "source": [
    "def testDT(x,y,xTest, param_grid):\n",
    "    start_time = time.time()\n",
    "\n",
    "    print 'Started...'\n",
    "    clf = DecisionTreeClassifier();\n",
    "    tree = GridSearchCV(clf ,param_grid,n_jobs=-1, refit=True , verbose= 1)\n",
    "    tree.fit(x,y)\n",
    "    tree_preds = tree.best_estimator_;\n",
    "    result = tree_preds.predict(xTest);\n",
    "    return [tree, result]\n",
    "    print(\"--- %s seconds ---\" % (time.time() - start_time))"
   ]
  },
  {
   "cell_type": "code",
   "execution_count": 12,
   "metadata": {},
   "outputs": [
    {
     "name": "stdout",
     "output_type": "stream",
     "text": [
      "Started...\n",
      "Fitting 3 folds for each of 1 candidates, totalling 3 fits\n"
     ]
    },
    {
     "name": "stderr",
     "output_type": "stream",
     "text": [
      "[Parallel(n_jobs=-1)]: Done   3 out of   3 | elapsed:   11.5s finished\n"
     ]
    },
    {
     "name": "stdout",
     "output_type": "stream",
     "text": [
      "0.72704\n",
      "56\n",
      "[50000  6515  1455 ...     2     1     1]\n"
     ]
    }
   ],
   "source": [
    "size = 50000\n",
    "param_grid = {#'max_depth': np.arange(20,30,2)\n",
    "          #,'criterion': ['gini','entropy']\n",
    "          #,'max_leaf_nodes': np.arange(10,100,10)\n",
    "          #,\"min_samples_split\": np.logspace(1.2, 2.0, num=7, dtype=int)\n",
    "          #,'random_state': np.arange(2,3,1)\n",
    "         }\n",
    "tree1,result1 = testDT(x.reshape(-1,1024)[:size], y.ravel()[:size], xTest.reshape(-1,1024)[:size],param_grid);\n",
    "print tree1.best_score_\n",
    "print tree1.best_estimator_.tree_.max_depth\n",
    "print tree1.best_estimator_.tree_.n_node_samples"
   ]
  },
  {
   "cell_type": "code",
   "execution_count": 13,
   "metadata": {},
   "outputs": [
    {
     "name": "stdout",
     "output_type": "stream",
     "text": [
      "Started...\n",
      "Fitting 3 folds for each of 112 candidates, totalling 336 fits\n"
     ]
    },
    {
     "name": "stderr",
     "output_type": "stream",
     "text": [
      "[Parallel(n_jobs=-1)]: Done  42 tasks      | elapsed:  1.3min\n",
      "[Parallel(n_jobs=-1)]: Done 192 tasks      | elapsed:  8.1min\n",
      "[Parallel(n_jobs=-1)]: Done 336 out of 336 | elapsed: 17.8min finished\n"
     ]
    },
    {
     "name": "stdout",
     "output_type": "stream",
     "text": [
      "0.74576\n",
      "12\n"
     ]
    }
   ],
   "source": [
    "size = 50000\n",
    "param_grid = {'max_depth': np.arange(4,60,4)\n",
    "          ,'criterion': ['gini','entropy']\n",
    "          #,'max_leaf_nodes': np.arange(10,100,10)\n",
    "          ,\"min_samples_split\": [2,4,8,16]\n",
    "          #,\"min_samples_leaf\": [1,2]\n",
    "          #,'random_state': np.arange(2,3,1)\n",
    "         }\n",
    "tree2,result2 = testDT(x.reshape(-1,1024)[:size], y.ravel()[:size], xTest.reshape(-1,1024)[:size],param_grid);\n",
    "print tree2.best_score_\n",
    "print tree2.best_estimator_.tree_.max_depth\n"
   ]
  },
  {
   "cell_type": "code",
   "execution_count": 14,
   "metadata": {},
   "outputs": [
    {
     "name": "stdout",
     "output_type": "stream",
     "text": [
      "<bound method DecisionTreeClassifier.get_params of DecisionTreeClassifier(class_weight=None, criterion='entropy', max_depth=12,\n",
      "            max_features=None, max_leaf_nodes=None,\n",
      "            min_impurity_decrease=0.0, min_impurity_split=None,\n",
      "            min_samples_leaf=1, min_samples_split=2,\n",
      "            min_weight_fraction_leaf=0.0, presort=False, random_state=None,\n",
      "            splitter='best')>\n"
     ]
    }
   ],
   "source": [
    "print tree2.best_estimator_.get_params\n"
   ]
  },
  {
   "cell_type": "markdown",
   "metadata": {},
   "source": [
    "# Test KNN"
   ]
  },
  {
   "cell_type": "code",
   "execution_count": 15,
   "metadata": {},
   "outputs": [],
   "source": [
    "def testKNN(x,y,xTest, param_grid):\n",
    "    clf = KNeighborsClassifier();\n",
    "    knng = GridSearchCV(clf ,param_grid,n_jobs=-1, refit=True , verbose= 2)\n",
    "    knng.fit(x,y)\n",
    "    knn_preds = knng.best_estimator_;\n",
    "    result = knn_preds.predict(xTest);\n",
    "    return [knng, result]\n"
   ]
  },
  {
   "cell_type": "code",
   "execution_count": 16,
   "metadata": {},
   "outputs": [
    {
     "name": "stdout",
     "output_type": "stream",
     "text": [
      "Fitting 3 folds for each of 8 candidates, totalling 24 fits\n",
      "[CV] n_neighbors=5, weights=uniform, algorithm=auto ..................\n",
      "[CV] n_neighbors=5, weights=uniform, algorithm=auto ..................\n",
      "[CV] n_neighbors=5, weights=uniform, algorithm=auto ..................\n",
      "[CV] n_neighbors=5, weights=distance, algorithm=auto .................\n",
      "[CV] ... n_neighbors=5, weights=uniform, algorithm=auto, total=   3.8s\n",
      "[CV] n_neighbors=5, weights=distance, algorithm=auto .................\n",
      "[CV] .. n_neighbors=5, weights=distance, algorithm=auto, total=   3.7s\n",
      "[CV] n_neighbors=5, weights=distance, algorithm=auto .................\n",
      "[CV] ... n_neighbors=5, weights=uniform, algorithm=auto, total=   3.8s\n",
      "[CV] n_neighbors=10, weights=uniform, algorithm=auto .................\n",
      "[CV] ... n_neighbors=5, weights=uniform, algorithm=auto, total=   4.2s\n",
      "[CV] n_neighbors=10, weights=uniform, algorithm=auto .................\n",
      "[CV] .. n_neighbors=5, weights=distance, algorithm=auto, total=   3.8s\n",
      "[CV] n_neighbors=10, weights=uniform, algorithm=auto .................\n",
      "[CV] .. n_neighbors=5, weights=distance, algorithm=auto, total=   3.8s\n",
      "[CV] n_neighbors=10, weights=distance, algorithm=auto ................\n",
      "[CV] .. n_neighbors=10, weights=uniform, algorithm=auto, total=   4.0s\n",
      "[CV] n_neighbors=10, weights=distance, algorithm=auto ................\n",
      "[CV] .. n_neighbors=10, weights=uniform, algorithm=auto, total=   4.1s\n",
      "[CV] n_neighbors=10, weights=distance, algorithm=auto ................\n",
      "[CV] .. n_neighbors=10, weights=uniform, algorithm=auto, total=   3.9s\n",
      "[CV] n_neighbors=15, weights=uniform, algorithm=auto .................\n",
      "[CV] . n_neighbors=10, weights=distance, algorithm=auto, total=   3.8s\n",
      "[CV] n_neighbors=15, weights=uniform, algorithm=auto .................\n",
      "[CV] . n_neighbors=10, weights=distance, algorithm=auto, total=   4.2s\n",
      "[CV] n_neighbors=15, weights=uniform, algorithm=auto .................\n",
      "[CV] . n_neighbors=10, weights=distance, algorithm=auto, total=   3.9s\n",
      "[CV] n_neighbors=15, weights=distance, algorithm=auto ................\n",
      "[CV] .. n_neighbors=15, weights=uniform, algorithm=auto, total=   4.2s\n",
      "[CV] n_neighbors=15, weights=distance, algorithm=auto ................\n",
      "[CV] .. n_neighbors=15, weights=uniform, algorithm=auto, total=   4.0s\n",
      "[CV] n_neighbors=15, weights=distance, algorithm=auto ................\n",
      "[CV] .. n_neighbors=15, weights=uniform, algorithm=auto, total=   4.0s\n",
      "[CV] n_neighbors=20, weights=uniform, algorithm=auto .................\n",
      "[CV] . n_neighbors=15, weights=distance, algorithm=auto, total=   4.1s\n",
      "[CV] n_neighbors=20, weights=uniform, algorithm=auto .................\n",
      "[CV] . n_neighbors=15, weights=distance, algorithm=auto, total=   4.0s\n",
      "[CV] n_neighbors=20, weights=uniform, algorithm=auto .................\n",
      "[CV] . n_neighbors=15, weights=distance, algorithm=auto, total=   4.0s\n",
      "[CV] n_neighbors=20, weights=distance, algorithm=auto ................\n",
      "[CV] .. n_neighbors=20, weights=uniform, algorithm=auto, total=   3.8s\n",
      "[CV] n_neighbors=20, weights=distance, algorithm=auto ................\n",
      "[CV] .. n_neighbors=20, weights=uniform, algorithm=auto, total=   4.1s\n",
      "[CV] n_neighbors=20, weights=distance, algorithm=auto ................\n",
      "[CV] .. n_neighbors=20, weights=uniform, algorithm=auto, total=   4.9s\n",
      "[CV] . n_neighbors=20, weights=distance, algorithm=auto, total=   4.2s\n",
      "[CV] . n_neighbors=20, weights=distance, algorithm=auto, total=   5.1s\n",
      "[CV] . n_neighbors=20, weights=distance, algorithm=auto, total=   4.8s\n"
     ]
    },
    {
     "name": "stderr",
     "output_type": "stream",
     "text": [
      "[Parallel(n_jobs=-1)]: Done  24 out of  24 | elapsed:  1.2min finished\n"
     ]
    },
    {
     "name": "stdout",
     "output_type": "stream",
     "text": [
      "0.8233333333333334\n",
      "{'n_neighbors': 5, 'weights': 'distance', 'algorithm': 'auto'}\n",
      "\n"
     ]
    }
   ],
   "source": [
    "param_grid = {'algorithm': ['auto']\n",
    "          ,'n_neighbors': [5,10,15,20]\n",
    "          ,\"weights\": ['uniform','distance']\n",
    "         }\n",
    "\n",
    "size = 3000\n",
    "knn1,result_knn1 = testKNN(x.reshape(-1,1024)[:size], y.ravel()[:size], xTest.reshape(-1,1024)[:size],param_grid);\n",
    "print knn1.best_score_\n",
    "print knn1.best_params_\n",
    "print "
   ]
  },
  {
   "cell_type": "code",
   "execution_count": 17,
   "metadata": {},
   "outputs": [
    {
     "name": "stdout",
     "output_type": "stream",
     "text": [
      "Fitting 3 folds for each of 6 candidates, totalling 18 fits\n",
      "[CV] n_neighbors=5, weights=uniform, algorithm=auto ..................\n",
      "[CV] n_neighbors=5, weights=uniform, algorithm=auto ..................\n",
      "[CV] n_neighbors=5, weights=uniform, algorithm=auto ..................\n",
      "[CV] n_neighbors=5, weights=distance, algorithm=auto .................\n",
      "[CV] ... n_neighbors=5, weights=uniform, algorithm=auto, total=19.4min\n",
      "[CV] n_neighbors=5, weights=distance, algorithm=auto .................\n",
      "[CV] ... n_neighbors=5, weights=uniform, algorithm=auto, total=19.9min\n",
      "[CV] n_neighbors=5, weights=distance, algorithm=auto .................\n",
      "[CV] .. n_neighbors=5, weights=distance, algorithm=auto, total=19.8min\n",
      "[CV] n_neighbors=7, weights=uniform, algorithm=auto ..................\n",
      "[CV] ... n_neighbors=5, weights=uniform, algorithm=auto, total=20.3min\n",
      "[CV] n_neighbors=7, weights=uniform, algorithm=auto ..................\n",
      "[CV] .. n_neighbors=5, weights=distance, algorithm=auto, total=17.8min\n",
      "[CV] n_neighbors=7, weights=uniform, algorithm=auto ..................\n",
      "[CV] .. n_neighbors=5, weights=distance, algorithm=auto, total=17.8min\n",
      "[CV] n_neighbors=7, weights=distance, algorithm=auto .................\n",
      "[CV] ... n_neighbors=7, weights=uniform, algorithm=auto, total=18.5min\n",
      "[CV] n_neighbors=7, weights=distance, algorithm=auto .................\n",
      "[CV] ... n_neighbors=7, weights=uniform, algorithm=auto, total=18.2min\n",
      "[CV] n_neighbors=7, weights=distance, algorithm=auto .................\n",
      "[CV] ... n_neighbors=7, weights=uniform, algorithm=auto, total=19.3min\n",
      "[CV] n_neighbors=9, weights=uniform, algorithm=auto ..................\n",
      "[CV] .. n_neighbors=7, weights=distance, algorithm=auto, total=19.8min\n",
      "[CV] n_neighbors=9, weights=uniform, algorithm=auto ..................\n",
      "[CV] .. n_neighbors=7, weights=distance, algorithm=auto, total=19.1min\n",
      "[CV] n_neighbors=9, weights=uniform, algorithm=auto ..................\n",
      "[CV] .. n_neighbors=7, weights=distance, algorithm=auto, total=19.2min\n",
      "[CV] n_neighbors=9, weights=distance, algorithm=auto .................\n",
      "[CV] ... n_neighbors=9, weights=uniform, algorithm=auto, total=18.4min\n",
      "[CV] n_neighbors=9, weights=distance, algorithm=auto .................\n",
      "[CV] ... n_neighbors=9, weights=uniform, algorithm=auto, total=17.7min\n",
      "[CV] n_neighbors=9, weights=distance, algorithm=auto .................\n",
      "[CV] ... n_neighbors=9, weights=uniform, algorithm=auto, total=18.0min\n",
      "[CV] .. n_neighbors=9, weights=distance, algorithm=auto, total=18.3min\n",
      "[CV] .. n_neighbors=9, weights=distance, algorithm=auto, total=14.5min\n",
      "[CV] .. n_neighbors=9, weights=distance, algorithm=auto, total=14.2min\n"
     ]
    },
    {
     "name": "stderr",
     "output_type": "stream",
     "text": [
      "[Parallel(n_jobs=-1)]: Done  18 out of  18 | elapsed: 262.7min finished\n"
     ]
    },
    {
     "name": "stdout",
     "output_type": "stream",
     "text": [
      "0.8233333333333334\n",
      "{'n_neighbors': 5, 'weights': 'distance', 'algorithm': 'auto'}\n",
      "\n"
     ]
    }
   ],
   "source": [
    "param_grid = {'algorithm': ['auto']\n",
    "          ,'n_neighbors': [5,7,9]\n",
    "          ,\"weights\": ['uniform','distance']\n",
    "         }\n",
    "\n",
    "size = 50000\n",
    "knn2,result_knn2 = testKNN(x.reshape(-1,1024)[:size], y.ravel()[:size], xTest.reshape(-1,1024)[:size],param_grid);\n",
    "print knn1.best_score_\n",
    "print knn1.best_params_\n",
    "print  "
   ]
  },
  {
   "cell_type": "code",
   "execution_count": 19,
   "metadata": {},
   "outputs": [
    {
     "name": "stdout",
     "output_type": "stream",
     "text": [
      "Fitting 3 folds for each of 8 candidates, totalling 24 fits\n",
      "[CV] n_neighbors=5, weights=uniform, algorithm=auto ..................\n",
      "[CV] n_neighbors=5, weights=uniform, algorithm=auto ..................\n",
      "[CV] n_neighbors=5, weights=uniform, algorithm=auto ..................\n",
      "[CV] n_neighbors=5, weights=distance, algorithm=auto .................\n",
      "[CV] ... n_neighbors=5, weights=uniform, algorithm=auto, total=   4.7s\n",
      "[CV] n_neighbors=5, weights=distance, algorithm=auto .................\n",
      "[CV] ... n_neighbors=5, weights=uniform, algorithm=auto, total=   5.0s\n",
      "[CV] n_neighbors=5, weights=distance, algorithm=auto .................\n",
      "[CV] ... n_neighbors=5, weights=uniform, algorithm=auto, total=   4.6s\n",
      "[CV] n_neighbors=10, weights=uniform, algorithm=auto .................\n",
      "[CV] .. n_neighbors=5, weights=distance, algorithm=auto, total=   5.1s\n",
      "[CV] n_neighbors=10, weights=uniform, algorithm=auto .................\n",
      "[CV] .. n_neighbors=5, weights=distance, algorithm=auto, total=   5.0s\n",
      "[CV] n_neighbors=10, weights=uniform, algorithm=auto .................\n",
      "[CV] .. n_neighbors=10, weights=uniform, algorithm=auto, total=   4.3s\n",
      "[CV] n_neighbors=10, weights=distance, algorithm=auto ................\n",
      "[CV] .. n_neighbors=10, weights=uniform, algorithm=auto, total=   4.8s\n",
      "[CV] .. n_neighbors=5, weights=distance, algorithm=auto, total=   4.9s\n",
      "[CV] n_neighbors=10, weights=distance, algorithm=auto ................\n",
      "[CV] n_neighbors=10, weights=distance, algorithm=auto ................\n",
      "[CV] .. n_neighbors=10, weights=uniform, algorithm=auto, total=   5.2s\n",
      "[CV] n_neighbors=15, weights=uniform, algorithm=auto .................\n",
      "[CV] . n_neighbors=10, weights=distance, algorithm=auto, total=   4.8s\n",
      "[CV] n_neighbors=15, weights=uniform, algorithm=auto .................\n",
      "[CV] . n_neighbors=10, weights=distance, algorithm=auto, total=   5.0s\n",
      "[CV] n_neighbors=15, weights=uniform, algorithm=auto .................\n",
      "[CV] . n_neighbors=10, weights=distance, algorithm=auto, total=   4.8s\n",
      "[CV] n_neighbors=15, weights=distance, algorithm=auto ................\n",
      "[CV] .. n_neighbors=15, weights=uniform, algorithm=auto, total=   4.4s\n",
      "[CV] n_neighbors=15, weights=distance, algorithm=auto ................\n",
      "[CV] .. n_neighbors=15, weights=uniform, algorithm=auto, total=   4.6s\n",
      "[CV] n_neighbors=15, weights=distance, algorithm=auto ................\n",
      "[CV] . n_neighbors=15, weights=distance, algorithm=auto, total=   4.4s\n",
      "[CV] n_neighbors=20, weights=uniform, algorithm=auto .................\n",
      "[CV] .. n_neighbors=15, weights=uniform, algorithm=auto, total=   5.1s\n",
      "[CV] n_neighbors=20, weights=uniform, algorithm=auto .................\n",
      "[CV] .. n_neighbors=20, weights=uniform, algorithm=auto, total=   4.4s\n",
      "[CV] n_neighbors=20, weights=uniform, algorithm=auto .................\n",
      "[CV] . n_neighbors=15, weights=distance, algorithm=auto, total=   4.7s\n",
      "[CV] n_neighbors=20, weights=distance, algorithm=auto ................\n",
      "[CV] . n_neighbors=15, weights=distance, algorithm=auto, total=   4.9s\n",
      "[CV] n_neighbors=20, weights=distance, algorithm=auto ................\n",
      "[CV] .. n_neighbors=20, weights=uniform, algorithm=auto, total=   4.3s\n",
      "[CV] n_neighbors=20, weights=distance, algorithm=auto ................\n",
      "[CV] .. n_neighbors=20, weights=uniform, algorithm=auto, total=   4.6s\n",
      "[CV] . n_neighbors=20, weights=distance, algorithm=auto, total=   4.5s\n",
      "[CV] . n_neighbors=20, weights=distance, algorithm=auto, total=   4.7s\n",
      "[CV] . n_neighbors=20, weights=distance, algorithm=auto, total=   5.0s\n"
     ]
    },
    {
     "name": "stderr",
     "output_type": "stream",
     "text": [
      "[Parallel(n_jobs=-1)]: Done  24 out of  24 | elapsed:  1.4min finished\n"
     ]
    },
    {
     "name": "stdout",
     "output_type": "stream",
     "text": [
      "0.8233333333333334\n",
      "{'n_neighbors': 5, 'weights': 'distance', 'algorithm': 'auto'}\n",
      "\n"
     ]
    }
   ],
   "source": [
    "param_grid = {'algorithm': ['auto']\n",
    "          ,'n_neighbors': [5,10,15,20]\n",
    "          ,\"weights\": ['uniform','distance']\n",
    "         }\n",
    "\n",
    "size = 3000\n",
    "knn1,result_knn1 = testKNN(x.reshape(-1,1024)[:size], y.ravel()[:size], xTest.reshape(-1,1024)[:size],param_grid);\n",
    "print knn1.best_score_\n",
    "print knn1.best_params_\n",
    "print "
   ]
  },
  {
   "cell_type": "markdown",
   "metadata": {},
   "source": [
    "# Test Random Forest"
   ]
  },
  {
   "cell_type": "code",
   "execution_count": 20,
   "metadata": {},
   "outputs": [],
   "source": [
    "def testRandomForest(x,y,xTest, param_grid):\n",
    "    clf = RandomForestClassifier();\n",
    "    rf = GridSearchCV(clf ,param_grid,n_jobs=-1, refit=True , verbose= 1)\n",
    "    rf.fit(x,y)\n",
    "    rf_preds = rf.best_estimator_;\n",
    "    result = rf_preds.predict(xTest);\n",
    "    return [rf, result]\n"
   ]
  },
  {
   "cell_type": "code",
   "execution_count": 21,
   "metadata": {},
   "outputs": [
    {
     "name": "stdout",
     "output_type": "stream",
     "text": [
      "Fitting 3 folds for each of 112 candidates, totalling 336 fits\n"
     ]
    },
    {
     "name": "stderr",
     "output_type": "stream",
     "text": [
      "[Parallel(n_jobs=-1)]: Done  42 tasks      | elapsed:   23.5s\n",
      "[Parallel(n_jobs=-1)]: Done 192 tasks      | elapsed:  2.2min\n",
      "[Parallel(n_jobs=-1)]: Done 336 out of 336 | elapsed:  4.9min finished\n"
     ]
    },
    {
     "name": "stdout",
     "output_type": "stream",
     "text": [
      "0.87324\n",
      "RandomForestClassifier(bootstrap=True, class_weight=None, criterion='entropy',\n",
      "            max_depth=44, max_features='auto', max_leaf_nodes=None,\n",
      "            min_impurity_decrease=0.0, min_impurity_split=None,\n",
      "            min_samples_leaf=1, min_samples_split=8,\n",
      "            min_weight_fraction_leaf=0.0, n_estimators=10, n_jobs=1,\n",
      "            oob_score=False, random_state=None, verbose=0,\n",
      "            warm_start=False)\n"
     ]
    }
   ],
   "source": [
    "param_grid = { 'criterion': ['gini','entropy']\n",
    "              ,'max_depth': np.arange(4,60,4)\n",
    "              ,\"min_samples_split\": [2,4,8,16]\n",
    "         }\n",
    "\n",
    "size = 50000\n",
    "rf_1,result_rf1 = testRandomForest(x.reshape(-1,1024)[:size], y.ravel()[:size], xTest.reshape(-1,1024)[:size],param_grid);\n",
    "print rf_1.best_score_\n",
    "print rf_1.best_estimator_"
   ]
  },
  {
   "cell_type": "code",
   "execution_count": 22,
   "metadata": {},
   "outputs": [
    {
     "name": "stdout",
     "output_type": "stream",
     "text": [
      "Fitting 3 folds for each of 720 candidates, totalling 2160 fits\n"
     ]
    },
    {
     "name": "stderr",
     "output_type": "stream",
     "text": [
      "[Parallel(n_jobs=-1)]: Done 144 tasks      | elapsed:    4.9s\n",
      "[Parallel(n_jobs=-1)]: Done 500 tasks      | elapsed:   26.1s\n",
      "[Parallel(n_jobs=-1)]: Done 1000 tasks      | elapsed:   57.7s\n",
      "[Parallel(n_jobs=-1)]: Done 1497 tasks      | elapsed:  1.7min\n",
      "[Parallel(n_jobs=-1)]: Done 1947 tasks      | elapsed:  2.7min\n",
      "[Parallel(n_jobs=-1)]: Done 2160 out of 2160 | elapsed:  3.2min finished\n"
     ]
    },
    {
     "name": "stdout",
     "output_type": "stream",
     "text": [
      "0.7884\n",
      "RandomForestClassifier(bootstrap=True, class_weight=None, criterion='entropy',\n",
      "            max_depth=24, max_features=81, max_leaf_nodes=None,\n",
      "            min_impurity_decrease=0.0, min_impurity_split=None,\n",
      "            min_samples_leaf=1, min_samples_split=8,\n",
      "            min_weight_fraction_leaf=0.0, n_estimators=10, n_jobs=1,\n",
      "            oob_score=False, random_state=None, verbose=0,\n",
      "            warm_start=False)\n"
     ]
    }
   ],
   "source": [
    "param_grid = { 'criterion': ['gini','entropy']\n",
    "              ,'max_depth': np.arange(4,40,4)\n",
    "              , 'max_features': np.arange(1,100,10)\n",
    "              ,\"min_samples_split\": [2,4,8,16]\n",
    "         }\n",
    "size = 5000\n",
    "rf_2,result_rf2 = testRandomForest(x.reshape(-1,1024)[:size], y.ravel()[:size], xTest.reshape(-1,1024)[:size],param_grid);\n",
    "print rf_2.best_score_\n",
    "print rf_2.best_estimator_"
   ]
  },
  {
   "cell_type": "code",
   "execution_count": 23,
   "metadata": {},
   "outputs": [
    {
     "name": "stdout",
     "output_type": "stream",
     "text": [
      "Fitting 3 folds for each of 240 candidates, totalling 720 fits\n"
     ]
    },
    {
     "name": "stderr",
     "output_type": "stream",
     "text": [
      "[Parallel(n_jobs=-1)]: Done  42 tasks      | elapsed:   33.1s\n",
      "[Parallel(n_jobs=-1)]: Done 192 tasks      | elapsed:  2.9min\n",
      "[Parallel(n_jobs=-1)]: Done 442 tasks      | elapsed:  7.6min\n",
      "[Parallel(n_jobs=-1)]: Done 720 out of 720 | elapsed: 14.3min finished\n"
     ]
    },
    {
     "name": "stdout",
     "output_type": "stream",
     "text": [
      "0.87568\n",
      "RandomForestClassifier(bootstrap=True, class_weight=None, criterion='entropy',\n",
      "            max_depth=24, max_features=60, max_leaf_nodes=None,\n",
      "            min_impurity_decrease=0.0, min_impurity_split=None,\n",
      "            min_samples_leaf=1, min_samples_split=4,\n",
      "            min_weight_fraction_leaf=0.0, n_estimators=10, n_jobs=1,\n",
      "            oob_score=False, random_state=None, verbose=0,\n",
      "            warm_start=False)\n"
     ]
    }
   ],
   "source": [
    "param_grid = { 'criterion': ['gini','entropy']\n",
    "              ,'max_depth': np.arange(20,40,4)\n",
    "              , 'max_features': np.arange(20,80,10)\n",
    "              ,\"min_samples_split\": [2,4,8,16]\n",
    "         }\n",
    "size = 50000\n",
    "rf_2,result_rf2 = testRandomForest(x.reshape(-1,1024)[:size], y.ravel()[:size], xTest.reshape(-1,1024)[:size],param_grid);\n",
    "print rf_2.best_score_\n",
    "print rf_2.best_estimator_"
   ]
  },
  {
   "cell_type": "code",
   "execution_count": 24,
   "metadata": {},
   "outputs": [
    {
     "name": "stdout",
     "output_type": "stream",
     "text": [
      "Done...\n"
     ]
    }
   ],
   "source": [
    "generateSubmittionFile(result_rf2)"
   ]
  },
  {
   "cell_type": "markdown",
   "metadata": {},
   "source": [
    "## Test bagging"
   ]
  },
  {
   "cell_type": "code",
   "execution_count": 5,
   "metadata": {},
   "outputs": [],
   "source": [
    "def testBagging(x,y,xTest, param_grid, learner):\n",
    "    clf = BaggingClassifier(learner);\n",
    "    rf = GridSearchCV(clf ,param_grid,n_jobs=-1, refit=True , verbose= 1)\n",
    "    rf.fit(x,y)\n",
    "    rf_preds = rf.best_estimator_;\n",
    "    result = rf_preds.predict(xTest);\n",
    "    return [rf, result]"
   ]
  },
  {
   "cell_type": "code",
   "execution_count": 26,
   "metadata": {},
   "outputs": [
    {
     "name": "stdout",
     "output_type": "stream",
     "text": [
      "Fitting 3 folds for each of 1 candidates, totalling 3 fits\n"
     ]
    },
    {
     "name": "stderr",
     "output_type": "stream",
     "text": [
      "[Parallel(n_jobs=-1)]: Done   3 out of   3 | elapsed: 16.0min finished\n"
     ]
    },
    {
     "name": "stdout",
     "output_type": "stream",
     "text": [
      "0.8626\n",
      "BaggingClassifier(base_estimator=KNeighborsClassifier(algorithm='auto', leaf_size=30, metric='minkowski',\n",
      "           metric_params=None, n_jobs=1, n_neighbors=5, p=2,\n",
      "           weights='uniform'),\n",
      "         bootstrap=True, bootstrap_features=False, max_features=1.0,\n",
      "         max_samples=1.0, n_estimators=10, n_jobs=1, oob_score=False,\n",
      "         random_state=None, verbose=0, warm_start=False)\n"
     ]
    }
   ],
   "source": [
    "param_grid = { \n",
    "         }\n",
    "size = 10000\n",
    "\n",
    "learner = KNeighborsClassifier();\n",
    "bg_1,result_bg1 = testBagging(x.reshape(-1,1024)[:size], y.ravel()[:size], xTest.reshape(-1,1024)[:size],param_grid ,learner);\n",
    "print bg_1.best_score_\n",
    "print bg_1.best_estimator_"
   ]
  },
  {
   "cell_type": "code",
   "execution_count": 27,
   "metadata": {},
   "outputs": [
    {
     "name": "stdout",
     "output_type": "stream",
     "text": [
      "Fitting 3 folds for each of 1 candidates, totalling 3 fits\n"
     ]
    },
    {
     "name": "stderr",
     "output_type": "stream",
     "text": [
      "[Parallel(n_jobs=-1)]: Done   3 out of   3 | elapsed: 449.2min finished\n"
     ]
    },
    {
     "name": "stdout",
     "output_type": "stream",
     "text": [
      "0.89988\n",
      "BaggingClassifier(base_estimator=KNeighborsClassifier(algorithm='auto', leaf_size=30, metric='minkowski',\n",
      "           metric_params=None, n_jobs=1, n_neighbors=5, p=2,\n",
      "           weights='uniform'),\n",
      "         bootstrap=True, bootstrap_features=False, max_features=1.0,\n",
      "         max_samples=1.0, n_estimators=10, n_jobs=1, oob_score=False,\n",
      "         random_state=None, verbose=0, warm_start=False)\n"
     ]
    }
   ],
   "source": [
    "param_grid = { \n",
    "         }\n",
    "size = 50000\n",
    "\n",
    "learner = KNeighborsClassifier();\n",
    "bg_1,result_bg1 = testBagging(x.reshape(-1,1024)[:size], y.ravel()[:size], xTest.reshape(-1,1024)[:size],param_grid ,learner);\n",
    "print bg_1.best_score_\n",
    "print bg_1.best_estimator_"
   ]
  },
  {
   "cell_type": "code",
   "execution_count": 6,
   "metadata": {},
   "outputs": [
    {
     "name": "stdout",
     "output_type": "stream",
     "text": [
      "Fitting 3 folds for each of 1 candidates, totalling 3 fits\n"
     ]
    },
    {
     "name": "stderr",
     "output_type": "stream",
     "text": [
      "[Parallel(n_jobs=-1)]: Done   3 out of   3 | elapsed: 40.1min finished\n"
     ]
    },
    {
     "name": "stdout",
     "output_type": "stream",
     "text": [
      "0.8446\n",
      "BaggingClassifier(base_estimator=KNeighborsClassifier(algorithm='auto', leaf_size=30, metric='minkowski',\n",
      "           metric_params=None, n_jobs=1, n_neighbors=5, p=2,\n",
      "           weights='uniform'),\n",
      "         bootstrap=True, bootstrap_features=False, max_features=1.0,\n",
      "         max_samples=1.0, n_estimators=100, n_jobs=1, oob_score=False,\n",
      "         random_state=None, verbose=0, warm_start=False)\n"
     ]
    }
   ],
   "source": [
    "param_grid = { 'n_estimators': [100]\n",
    "         }\n",
    "size = 5000\n",
    "\n",
    "learner = KNeighborsClassifier();\n",
    "bg_1,result_bg1 = testBagging(x.reshape(-1,1024)[:size], y.ravel()[:size], xTest.reshape(-1,1024)[:size],param_grid ,learner);\n",
    "print bg_1.best_score_\n",
    "print bg_1.best_estimator_"
   ]
  },
  {
   "cell_type": "code",
   "execution_count": 7,
   "metadata": {},
   "outputs": [
    {
     "name": "stdout",
     "output_type": "stream",
     "text": [
      "Fitting 3 folds for each of 1 candidates, totalling 3 fits\n"
     ]
    },
    {
     "name": "stderr",
     "output_type": "stream",
     "text": [
      "/home/mehrzad/Software/anaconda2/lib/python2.7/site-packages/sklearn/model_selection/_split.py:605: Warning: The least populated class in y has only 1 members, which is too few. The minimum number of members in any class cannot be less than n_splits=3.\n",
      "  % (min_groups, self.n_splits)), Warning)\n",
      "[Parallel(n_jobs=-1)]: Done   3 out of   3 | elapsed:    0.4s finished\n"
     ]
    },
    {
     "name": "stdout",
     "output_type": "stream",
     "text": [
      "0.38\n",
      "BaggingClassifier(base_estimator=KNeighborsClassifier(algorithm='auto', leaf_size=30, metric='minkowski',\n",
      "           metric_params=None, n_jobs=1, n_neighbors=5, p=2,\n",
      "           weights='uniform'),\n",
      "         bootstrap=True, bootstrap_features=False, max_features=1.0,\n",
      "         max_samples=1.0, n_estimators=100, n_jobs=1, oob_score=False,\n",
      "         random_state=None, verbose=0, warm_start=False)\n"
     ]
    }
   ],
   "source": [
    "param_grid = { 'n_estimators': [100]\n",
    "         }\n",
    "size = 50\n",
    "\n",
    "learner = KNeighborsClassifier();\n",
    "bg_4,result_bg4 = testBagging(x.reshape(-1,1024)[:size], y.ravel()[:size], xTest.reshape(-1,1024)[:size],param_grid ,learner);\n",
    "print bg_4.best_score_\n",
    "print bg_4.best_estimator_"
   ]
  },
  {
   "cell_type": "code",
   "execution_count": 8,
   "metadata": {},
   "outputs": [
    {
     "name": "stdout",
     "output_type": "stream",
     "text": [
      "Fitting 3 folds for each of 6 candidates, totalling 18 fits\n"
     ]
    },
    {
     "name": "stderr",
     "output_type": "stream",
     "text": [
      "[Parallel(n_jobs=-1)]: Done  18 out of  18 | elapsed:    1.1s finished\n"
     ]
    },
    {
     "name": "stdout",
     "output_type": "stream",
     "text": [
      "0.42\n",
      "BaggingClassifier(base_estimator=KNeighborsClassifier(algorithm='auto', leaf_size=30, metric='minkowski',\n",
      "           metric_params=None, n_jobs=1, n_neighbors=5, p=2,\n",
      "           weights='uniform'),\n",
      "         bootstrap=True, bootstrap_features=False, max_features=70,\n",
      "         max_samples=1.0, n_estimators=100, n_jobs=1, oob_score=False,\n",
      "         random_state=None, verbose=0, warm_start=False)\n"
     ]
    }
   ],
   "source": [
    "param_grid = { 'n_estimators': [100],\n",
    "                'max_features': np.arange(20,80,10)\n",
    "         }\n",
    "size = 50\n",
    "\n",
    "learner = KNeighborsClassifier();\n",
    "bg_5,result_bg5 = testBagging(x.reshape(-1,1024)[:size], y.ravel()[:size], xTest.reshape(-1,1024)[:size],param_grid ,learner);\n",
    "print bg_5.best_score_\n",
    "print bg_5.best_estimator_"
   ]
  },
  {
   "cell_type": "markdown",
   "metadata": {},
   "source": [
    "## Test Boosting\n"
   ]
  },
  {
   "cell_type": "code",
   "execution_count": 9,
   "metadata": {},
   "outputs": [],
   "source": [
    "def testBoosting(x,y,xTest, param_grid):\n",
    "    clf = AdaBoostClassifier()\n",
    "    rf = GridSearchCV(clf ,param_grid,n_jobs=-1, refit=True , verbose= 1)\n",
    "    rf.fit(x,y)\n",
    "    rf_preds = rf.best_estimator_;\n",
    "    result = rf_preds.predict(xTest);\n",
    "    return [rf, result]"
   ]
  },
  {
   "cell_type": "code",
   "execution_count": 10,
   "metadata": {},
   "outputs": [
    {
     "name": "stdout",
     "output_type": "stream",
     "text": [
      "Fitting 3 folds for each of 1 candidates, totalling 3 fits\n"
     ]
    },
    {
     "name": "stderr",
     "output_type": "stream",
     "text": [
      "[Parallel(n_jobs=-1)]: Done   3 out of   3 | elapsed:    1.8s finished\n"
     ]
    },
    {
     "name": "stdout",
     "output_type": "stream",
     "text": [
      "0.4509\n",
      "AdaBoostClassifier(algorithm='SAMME.R', base_estimator=None,\n",
      "          learning_rate=1.0, n_estimators=10, random_state=None)\n"
     ]
    }
   ],
   "source": [
    "param_grid = { 'n_estimators': [10]\n",
    "         }\n",
    "size = 10000\n",
    "\n",
    "bo_0,result_bo0 = testBoosting(x.reshape(-1,1024)[:size], y.ravel()[:size], xTest.reshape(-1,1024)[:size],param_grid );\n",
    "print bo_0.best_score_\n",
    "print bo_0.best_estimator_"
   ]
  },
  {
   "cell_type": "code",
   "execution_count": 11,
   "metadata": {},
   "outputs": [
    {
     "name": "stdout",
     "output_type": "stream",
     "text": [
      "Fitting 3 folds for each of 1 candidates, totalling 3 fits\n"
     ]
    },
    {
     "name": "stderr",
     "output_type": "stream",
     "text": [
      "[Parallel(n_jobs=-1)]: Done   3 out of   3 | elapsed:   17.4s finished\n"
     ]
    },
    {
     "name": "stdout",
     "output_type": "stream",
     "text": [
      "0.614\n",
      "AdaBoostClassifier(algorithm='SAMME.R', base_estimator=None,\n",
      "          learning_rate=1.0, n_estimators=100, random_state=None)\n"
     ]
    }
   ],
   "source": [
    "param_grid = { 'n_estimators': [100]\n",
    "         }\n",
    "size = 10000\n",
    "\n",
    "bo_1,result_bo1 = testBoosting(x.reshape(-1,1024)[:size], y.ravel()[:size], xTest.reshape(-1,1024)[:size],param_grid );\n",
    "print bo_1.best_score_\n",
    "print bo_1.best_estimator_"
   ]
  },
  {
   "cell_type": "code",
   "execution_count": 12,
   "metadata": {},
   "outputs": [
    {
     "name": "stdout",
     "output_type": "stream",
     "text": [
      "Fitting 3 folds for each of 1 candidates, totalling 3 fits\n"
     ]
    },
    {
     "name": "stderr",
     "output_type": "stream",
     "text": [
      "[Parallel(n_jobs=-1)]: Done   3 out of   3 | elapsed:  1.6min finished\n"
     ]
    },
    {
     "name": "stdout",
     "output_type": "stream",
     "text": [
      "0.63228\n",
      "AdaBoostClassifier(algorithm='SAMME.R', base_estimator=None,\n",
      "          learning_rate=1.0, n_estimators=100, random_state=None)\n"
     ]
    }
   ],
   "source": [
    "param_grid = { 'n_estimators': [100]\n",
    "         }\n",
    "size = 50000\n",
    "\n",
    "bo_2,result_bo2 = testBoosting(x.reshape(-1,1024)[:size], y.ravel()[:size], xTest.reshape(-1,1024)[:size],param_grid );\n",
    "print bo_2.best_score_\n",
    "print bo_2.best_estimator_"
   ]
  },
  {
   "cell_type": "markdown",
   "metadata": {},
   "source": [
    "## Test kernalized SVM"
   ]
  },
  {
   "cell_type": "code",
   "execution_count": 13,
   "metadata": {},
   "outputs": [],
   "source": [
    "from sklearn.svm import SVC\n",
    "def testkernelizedSVM(x,y,xTest, param_grid):\n",
    "    clf = SVC()\n",
    "    rf = GridSearchCV(clf ,param_grid,n_jobs=-1, refit=True , verbose= 1)\n",
    "    rf.fit(x,y)\n",
    "    rf_preds = rf.best_estimator_;\n",
    "    result = rf_preds.predict(xTest);\n",
    "    return [rf, result]"
   ]
  },
  {
   "cell_type": "code",
   "execution_count": 14,
   "metadata": {},
   "outputs": [
    {
     "name": "stdout",
     "output_type": "stream",
     "text": [
      "Fitting 3 folds for each of 12 candidates, totalling 36 fits\n"
     ]
    },
    {
     "name": "stderr",
     "output_type": "stream",
     "text": [
      "[Parallel(n_jobs=-1)]: Done  36 out of  36 | elapsed:    3.1s finished\n"
     ]
    },
    {
     "name": "stdout",
     "output_type": "stream",
     "text": [
      "0.752\n",
      "SVC(C=1e-05, cache_size=200, class_weight=None, coef0=0.0,\n",
      "  decision_function_shape='ovr', degree=3, gamma='auto', kernel='poly',\n",
      "  max_iter=-1, probability=False, random_state=None, shrinking=True,\n",
      "  tol=0.001, verbose=False)\n"
     ]
    }
   ],
   "source": [
    "param_grid = { 'kernel': ['linear','poly','rbf','sigmoid']\n",
    "              ,'C':[0.00001,0.0001,0.001]\n",
    "         }\n",
    "size = 500\n",
    "\n",
    "ksvm_1,result_ksvm1 = testkernelizedSVM(x.reshape(-1,1024)[:size], y.ravel()[:size], xTest.reshape(-1,1024)[:size],param_grid );\n",
    "print ksvm_1.best_score_\n",
    "print ksvm_1.best_estimator_"
   ]
  },
  {
   "cell_type": "code",
   "execution_count": 15,
   "metadata": {},
   "outputs": [
    {
     "name": "stdout",
     "output_type": "stream",
     "text": [
      "Fitting 3 folds for each of 120 candidates, totalling 360 fits\n"
     ]
    },
    {
     "name": "stderr",
     "output_type": "stream",
     "text": [
      "[Parallel(n_jobs=-1)]: Done  42 tasks      | elapsed:  6.9min\n",
      "[Parallel(n_jobs=-1)]: Done 192 tasks      | elapsed: 34.6min\n",
      "[Parallel(n_jobs=-1)]: Done 360 out of 360 | elapsed: 63.9min finished\n"
     ]
    },
    {
     "name": "stdout",
     "output_type": "stream",
     "text": [
      "0.8624\n",
      "SVC(C=1e-05, cache_size=200, class_weight=None, coef0=0.0,\n",
      "  decision_function_shape='ovr', degree=3, gamma='auto', kernel='poly',\n",
      "  max_iter=-1, probability=False, random_state=None, shrinking=True,\n",
      "  tol=0.001, verbose=False)\n"
     ]
    }
   ],
   "source": [
    "param_grid = { 'kernel': ['linear','poly','rbf','sigmoid']\n",
    "              ,'C':[0.00001,0.0001,0.001,0.01,0.1,1]\n",
    "              ,'degree': [2,3,4,5,6]\n",
    "         }\n",
    "size = 5000\n",
    "\n",
    "ksvm_2,result_ksvm2 = testkernelizedSVM(x.reshape(-1,1024)[:size], y.ravel()[:size], xTest.reshape(-1,1024)[:size],param_grid );\n",
    "print ksvm_2.best_score_\n",
    "print ksvm_2.best_estimator_"
   ]
  },
  {
   "cell_type": "code",
   "execution_count": null,
   "metadata": {},
   "outputs": [],
   "source": [
    "param_grid = { 'kernel': ['linear','poly','rbf','sigmoid']\n",
    "              ,'C':[0.00001,0.0001,0.001]\n",
    "              ,'degree': [2,3,4,5,6]\n",
    "         }\n",
    "size = 50000\n",
    "\n",
    "ksvm_2,result_ksvm2 = testkernelizedSVM(x.reshape(-1,1024)[:size], y.ravel()[:size], xTest.reshape(-1,1024)[:size],param_grid );\n",
    "print ksvm_2.best_score_\n",
    "print ksvm_2.best_estimator_"
   ]
  },
  {
   "cell_type": "code",
   "execution_count": null,
   "metadata": {},
   "outputs": [],
   "source": []
  },
  {
   "cell_type": "code",
   "execution_count": null,
   "metadata": {},
   "outputs": [],
   "source": []
  },
  {
   "cell_type": "code",
   "execution_count": null,
   "metadata": {},
   "outputs": [],
   "source": []
  },
  {
   "cell_type": "code",
   "execution_count": null,
   "metadata": {},
   "outputs": [],
   "source": []
  }
 ],
 "metadata": {
  "kernelspec": {
   "display_name": "Python 2",
   "language": "python",
   "name": "python2"
  },
  "language_info": {
   "codemirror_mode": {
    "name": "ipython",
    "version": 2
   },
   "file_extension": ".py",
   "mimetype": "text/x-python",
   "name": "python",
   "nbconvert_exporter": "python",
   "pygments_lexer": "ipython2",
   "version": "2.7.14"
  }
 },
 "nbformat": 4,
 "nbformat_minor": 2
}
